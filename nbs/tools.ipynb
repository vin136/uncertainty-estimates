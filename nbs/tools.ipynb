{
 "cells": [
  {
   "cell_type": "markdown",
   "id": "5cdd5869-c97a-48a4-9a05-14139e8dd04b",
   "metadata": {},
   "source": [
    "# Tools\n"
   ]
  },
  {
   "cell_type": "markdown",
   "id": "e2a1a83b-e171-4d80-a931-a35b871d4e94",
   "metadata": {},
   "source": [
    "## Pytorch-lightning\n",
    "To remove boiler plate code without losing the flexibility of Pytorch."
   ]
  },
  {
   "cell_type": "code",
   "execution_count": null,
   "id": "e3b03ad4-febd-4053-9264-3e97190b7a27",
   "metadata": {},
   "outputs": [],
   "source": []
  }
 ],
 "metadata": {
  "kernelspec": {
   "display_name": "Python 3 (ipykernel)",
   "language": "python",
   "name": "python3"
  },
  "language_info": {
   "codemirror_mode": {
    "name": "ipython",
    "version": 3
   },
   "file_extension": ".py",
   "mimetype": "text/x-python",
   "name": "python",
   "nbconvert_exporter": "python",
   "pygments_lexer": "ipython3",
   "version": "3.9.9"
  }
 },
 "nbformat": 4,
 "nbformat_minor": 5
}
