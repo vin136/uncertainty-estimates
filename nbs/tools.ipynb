{
 "cells": [
  {
   "cell_type": "markdown",
   "id": "1645104e",
   "metadata": {},
   "source": [
    "# Buliding Flexible Code Base\n",
    "\n",
    "We will build a flexible code base that increases the ease of development and code-reuse. I will take bits and pieces of FASTAI library and use this as a base for our experiments."
   ]
  },
  {
   "cell_type": "markdown",
   "id": "4f8480e3",
   "metadata": {},
   "source": [
    "## Let's setup dummy dataset"
   ]
  },
  {
   "cell_type": "code",
   "execution_count": 2,
   "id": "cd87c01c",
   "metadata": {},
   "outputs": [],
   "source": [
    "\n",
    "from sklearn import datasets\n",
    "\n",
    "noise = 0.1\n",
    "X_train, y_train = datasets.make_moons(n_samples=2000, noise=noise)"
   ]
  },
  {
   "cell_type": "code",
   "execution_count": 5,
   "id": "f0f1e79c",
   "metadata": {},
   "outputs": [
    {
     "data": {
      "text/plain": [
       "array([0, 1, 0, ..., 1, 0, 0])"
      ]
     },
     "execution_count": 5,
     "metadata": {},
     "output_type": "execute_result"
    }
   ],
   "source": [
    "y_train"
   ]
  },
  {
   "cell_type": "code",
   "execution_count": 145,
   "id": "e4caf180",
   "metadata": {},
   "outputs": [],
   "source": [
    "#create dummy dataset\n",
    "import torch\n",
    "from torch.utils.data import Dataset,DataLoader\n",
    "from torch.nn import Sequential\n",
    "import torch.nn as nn\n",
    "from tqdm import tqdm\n",
    "class DummyDset(Dataset):\n",
    "    def __init__(self,sz,noise=0.1):\n",
    "        self.x,self.y = datasets.make_moons(n_samples=sz,noise=noise)\n",
    "        self.x = self.x.astype('float32')\n",
    "    def __getitem__(self,ind):\n",
    "        return self.x[ind],self.y[ind]\n",
    "    def __len__(self):\n",
    "        return len(self.x)\n",
    "        \n",
    "        \n",
    "class Dloaders:\n",
    "    def __init__(self,*dls):\n",
    "        self.train,self.valid = dls"
   ]
  },
  {
   "cell_type": "code",
   "execution_count": 146,
   "id": "7970b14e",
   "metadata": {},
   "outputs": [],
   "source": [
    "sampl = DummyDset(100)"
   ]
  },
  {
   "cell_type": "code",
   "execution_count": 147,
   "id": "5385cbc8",
   "metadata": {},
   "outputs": [
    {
     "name": "stdout",
     "output_type": "stream",
     "text": [
      "[0.93305933 0.2283831 ],(2,)\n",
      "0,()\n"
     ]
    }
   ],
   "source": [
    "for x,y in sampl:\n",
    "    print(f'{x},{x.shape}')\n",
    "    print(f'{y},{y.shape}')\n",
    "    break"
   ]
  },
  {
   "cell_type": "code",
   "execution_count": 148,
   "id": "c145be58",
   "metadata": {},
   "outputs": [],
   "source": [
    "trn_dset,vld_dset,tst_dset = DummyDset(2000),DummyDset(500),DummyDset(500)"
   ]
  },
  {
   "cell_type": "code",
   "execution_count": 149,
   "id": "b810d265",
   "metadata": {},
   "outputs": [],
   "source": [
    "trn_dl = DataLoader(trn_dset,shuffle=True,batch_size=50)\n",
    "vld_dl = DataLoader(vld_dset,batch_size=50)"
   ]
  },
  {
   "cell_type": "code",
   "execution_count": 150,
   "id": "ba425e8a",
   "metadata": {},
   "outputs": [],
   "source": [
    "dls = Dloaders(trn_dl,vld_dl)"
   ]
  },
  {
   "cell_type": "code",
   "execution_count": 151,
   "id": "d4340386",
   "metadata": {},
   "outputs": [
    {
     "name": "stdout",
     "output_type": "stream",
     "text": [
      "torch.Size([50, 2])\n",
      "torch.Size([50])\n"
     ]
    }
   ],
   "source": [
    "for x_bl,y_bl in trn_dl:\n",
    "    print(x_bl.shape)\n",
    "    print(y_bl.shape)\n",
    "    break"
   ]
  },
  {
   "cell_type": "code",
   "execution_count": 159,
   "id": "7cb2b7b4",
   "metadata": {},
   "outputs": [],
   "source": [
    "dmodel = Sequential(nn.Linear(2,164),\n",
    "          nn.LeakyReLU(),\n",
    "          nn.Linear(164,32),\n",
    "          nn.LeakyReLU(),\n",
    "          nn.Linear(32,2),\n",
    "          )"
   ]
  },
  {
   "cell_type": "code",
   "execution_count": 153,
   "id": "719fca00",
   "metadata": {},
   "outputs": [
    {
     "data": {
      "text/plain": [
       "Sequential(\n",
       "  (0): Linear(in_features=2, out_features=164, bias=True)\n",
       "  (1): LeakyReLU(negative_slope=0.01)\n",
       "  (2): Linear(in_features=164, out_features=32, bias=True)\n",
       "  (3): LeakyReLU(negative_slope=0.01)\n",
       "  (4): Linear(in_features=32, out_features=2, bias=True)\n",
       ")"
      ]
     },
     "execution_count": 153,
     "metadata": {},
     "output_type": "execute_result"
    }
   ],
   "source": [
    "dmodel"
   ]
  },
  {
   "cell_type": "code",
   "execution_count": 154,
   "id": "09816983",
   "metadata": {},
   "outputs": [],
   "source": [
    "loss_fn = nn.CrossEntropyLoss()\n",
    "optimizer_fn = torch.optim.Adam"
   ]
  },
  {
   "cell_type": "code",
   "execution_count": 128,
   "id": "2780e954",
   "metadata": {},
   "outputs": [],
   "source": [
    "# define Python user-defined exceptions\n",
    "class CancelFitException(Exception):\n",
    "    pass"
   ]
  },
  {
   "cell_type": "code",
   "execution_count": 156,
   "id": "56f46120",
   "metadata": {},
   "outputs": [],
   "source": [
    "xb,yb = None,None\n",
    "for xb,yb in trn_dl:\n",
    "    break\n",
    "    "
   ]
  },
  {
   "cell_type": "code",
   "execution_count": 157,
   "id": "689d2951",
   "metadata": {},
   "outputs": [],
   "source": [
    "out = dmodel(xb)"
   ]
  },
  {
   "cell_type": "code",
   "execution_count": null,
   "id": "9b0f19d0",
   "metadata": {},
   "outputs": [],
   "source": []
  },
  {
   "cell_type": "code",
   "execution_count": null,
   "id": "23d54fa1",
   "metadata": {},
   "outputs": [],
   "source": []
  },
  {
   "cell_type": "markdown",
   "id": "42ea4378",
   "metadata": {},
   "source": [
    "## Flexible Trainer Class"
   ]
  },
  {
   "cell_type": "code",
   "execution_count": 186,
   "id": "05a77f4d",
   "metadata": {},
   "outputs": [],
   "source": [
    "\n",
    "\n",
    "\n",
    "class Trainer:\n",
    "    def __init__(self,model,dls,loss_func,lr,opt_func,cbs,device='cpu'):\n",
    "        self.model = model\n",
    "        self.dl = dls\n",
    "        self.loss_func = loss_func\n",
    "        self.lr = lr\n",
    "        self.opt_func = opt_func\n",
    "        self.cbs =cbs\n",
    "        self.device = device\n",
    "        for cb in cbs:cb.trainer = self\n",
    "        \n",
    "    def one_batch(self,batch):\n",
    "        self('before_batch')\n",
    "        xb,yb = batch\n",
    "        self.opt.zero_grad() \n",
    "        #storing y_preds onto the class for a potential use by a callback\n",
    "        self.y_preds = self.model(xb)\n",
    "        self.loss = self.loss_func(self.y_preds,yb)\n",
    "        if self.model.training:\n",
    "            #take backward step only if in training mode\n",
    "            self.loss.backward()\n",
    "            self.opt.step()\n",
    "        self('after_batch')\n",
    "        \n",
    "    def one_epoch(self,is_train):\n",
    "        self.model.training = is_train\n",
    "        self('before_epoch')\n",
    "        #choose the appropriate data-loader\n",
    "        dl = self.dl.train if is_train else self.dl.valid\n",
    "        for self.epochnum,self.batch in enumerate(dl):\n",
    "            #import pdb;pdb.set_trace()\n",
    "            self.one_batch(self.batch)\n",
    "        self('after_epoch')\n",
    "    \n",
    "    def fit(self,nepochs):\n",
    "        self('before_fit')\n",
    "        self.opt = self.opt_func(self.model.parameters(),self.lr)\n",
    "        self.nepochs = nepochs\n",
    "        try:\n",
    "            for self.epoch in tqdm(range(self.nepochs)):\n",
    "                self.one_epoch(True)\n",
    "                self.one_epoch(False)\n",
    "        except CancelFitException:\n",
    "            pass\n",
    "        self('after_fit')\n",
    "        \n",
    "    def predict(self,dl):\n",
    "        print('NOT IMPLEMENTED')\n",
    "        pass\n",
    "    \n",
    "    def infer(self,x):\n",
    "        pass\n",
    "    \n",
    "    def __call__(self,name):\n",
    "        for cb in self.cbs:getattr(cb,name)()\n",
    "        \n",
    "        "
   ]
  },
  {
   "cell_type": "code",
   "execution_count": 187,
   "id": "89a02eb5",
   "metadata": {},
   "outputs": [],
   "source": [
    "class CallBack:\n",
    "    def before_epoch(self):\n",
    "        pass\n",
    "    def after_epoch(self):\n",
    "        pass\n",
    "    def before_batch(self):\n",
    "        pass\n",
    "    def after_batch(self):\n",
    "        pass\n",
    "    def before_fit(self):\n",
    "        pass\n",
    "    def after_fit(self): \n",
    "        pass\n",
    "    \n",
    "    \n",
    "    \n",
    "\n",
    "class SetupTrainerCB(CallBack):\n",
    "    def before_batch(self):\n",
    "        xb,yb = to_device(self.trainer.device,self.trainer.batch)\n",
    "        self.trainer.batch = xb,yb\n",
    "\n",
    "    def before_fit(self): \n",
    "        if self.trainer.device != 'cpu':\n",
    "            self.trainer.model.cuda()"
   ]
  },
  {
   "cell_type": "code",
   "execution_count": 188,
   "id": "7fa78d78",
   "metadata": {},
   "outputs": [],
   "source": [
    "class PrinterCB(CallBack):\n",
    "    def before_epoch(self):\n",
    "        self.ns,self.losses,self.accs = [],[],[]\n",
    "        \n",
    "    def after_epoch(self):\n",
    "        n = sum(self.ns)\n",
    "        epoch_type = 'Training' if self.trainer.model.training else 'Validation'\n",
    "        acc = sum(self.accs)/n\n",
    "        loss = sum(self.losses)/n\n",
    "        print(f\"{epoch_type} acc: {acc},loss:{loss}\")\n",
    "        \n",
    "    def after_batch(self):\n",
    "        xb,yb = self.trainer.batch\n",
    "        acc = (self.trainer.y_preds.argmax(dim=-1) == yb).float().sum()\n",
    "        ns = len(xb)\n",
    "        l = (self.trainer.loss.item())*ns\n",
    "        self.ns.append(ns)\n",
    "        self.losses.append(l)\n",
    "        self.accs.append(acc)\n",
    "    "
   ]
  },
  {
   "cell_type": "code",
   "execution_count": 189,
   "id": "460fbf93",
   "metadata": {},
   "outputs": [],
   "source": [
    "cbs = [PrinterCB()]"
   ]
  },
  {
   "cell_type": "code",
   "execution_count": 190,
   "id": "63b9cbf7",
   "metadata": {},
   "outputs": [],
   "source": [
    "trainer = Trainer(dmodel,dls,loss_fn,0.0002,optimizer_fn,cbs,'cpu')"
   ]
  },
  {
   "cell_type": "code",
   "execution_count": 192,
   "id": "8b0b9183",
   "metadata": {},
   "outputs": [
    {
     "name": "stderr",
     "output_type": "stream",
     "text": [
      "100%|███████████████████████████████████████████| 10/10 [00:00<00:00, 44.04it/s]"
     ]
    },
    {
     "name": "stdout",
     "output_type": "stream",
     "text": [
      "Training acc: 0.9169999957084656,loss:0.1967030894011259\n",
      "Validation acc: 0.9259999990463257,loss:0.1817723885178566\n",
      "Training acc: 0.9254999756813049,loss:0.17515053320676088\n",
      "Validation acc: 0.9399999976158142,loss:0.15973494127392768\n",
      "Training acc: 0.9375,loss:0.1553548775613308\n",
      "Validation acc: 0.9480000138282776,loss:0.14143396019935608\n",
      "Training acc: 0.9465000033378601,loss:0.13779674749821424\n",
      "Validation acc: 0.9559999704360962,loss:0.12448145151138305\n",
      "Training acc: 0.9589999914169312,loss:0.12202388374134898\n",
      "Validation acc: 0.9620000123977661,loss:0.10851196274161339\n",
      "Training acc: 0.965499997138977,loss:0.10720596723258495\n",
      "Validation acc: 0.9660000205039978,loss:0.09475147388875485\n",
      "Training acc: 0.9704999923706055,loss:0.09367854483425617\n",
      "Validation acc: 0.972000002861023,loss:0.08259923197329044\n",
      "Training acc: 0.9794999957084656,loss:0.0818658934906125\n",
      "Validation acc: 0.9800000190734863,loss:0.07173150032758713\n",
      "Training acc: 0.9829999804496765,loss:0.0715909406542778\n",
      "Validation acc: 0.9879999756813049,loss:0.06189991869032383\n",
      "Training acc: 0.9860000014305115,loss:0.06258986270986497\n",
      "Validation acc: 0.9879999756813049,loss:0.05420163460075855\n"
     ]
    },
    {
     "name": "stderr",
     "output_type": "stream",
     "text": [
      "\n"
     ]
    }
   ],
   "source": [
    "trainer.fit(10)"
   ]
  },
  {
   "cell_type": "code",
   "execution_count": null,
   "id": "ea64aab3",
   "metadata": {},
   "outputs": [],
   "source": []
  },
  {
   "cell_type": "code",
   "execution_count": 50,
   "id": "2f19c840",
   "metadata": {},
   "outputs": [],
   "source": [
    "from torch import as_tensor,Tensor,ByteTensor,LongTensor,FloatTensor,HalfTensor,DoubleTensor\n",
    "from types import GeneratorType\n",
    "\n",
    "def is_listy(x):\n",
    "    \"`isinstance(x, (tuple,list,slice,GeneratorType))`\"\n",
    "    return isinstance(x, (tuple,list,slice,GeneratorType))\n",
    "\n",
    "\n",
    "\n",
    "def apply(func, x, *args, **kwargs):\n",
    "    \"Apply `func` recursively to `x`, passing on args\"\n",
    "    if is_listy(x): return type(x)([apply(func, o, *args, **kwargs) for o in x])\n",
    "    if isinstance(x,dict):  return {k: apply(func, v, *args, **kwargs) for k,v in x.items()}\n",
    "    res = func(x, *args, **kwargs)\n",
    "    return res \n",
    "\n",
    "def to_device(b, device=None, non_blocking=False):\n",
    "    \"Recursively put `b` on `device`.\"\n",
    "    #if defaults.use_cuda==False: device='cpu'\n",
    "    #elif device is None: device=default_device()\n",
    "    def _inner(o):\n",
    "        if isinstance(o,Tensor): return o.to(device, non_blocking=non_blocking)\n",
    "#         if hasattr(o, \"to_device\"): return o.to_device(device)\n",
    "        return o\n",
    "    return apply(_inner, b)"
   ]
  },
  {
   "cell_type": "code",
   "execution_count": null,
   "id": "4405269b",
   "metadata": {},
   "outputs": [],
   "source": []
  }
 ],
 "metadata": {
  "kernelspec": {
   "display_name": "Python 3 (ipykernel)",
   "language": "python",
   "name": "python3"
  },
  "language_info": {
   "codemirror_mode": {
    "name": "ipython",
    "version": 3
   },
   "file_extension": ".py",
   "mimetype": "text/x-python",
   "name": "python",
   "nbconvert_exporter": "python",
   "pygments_lexer": "ipython3",
   "version": "3.9.9"
  }
 },
 "nbformat": 4,
 "nbformat_minor": 5
}
