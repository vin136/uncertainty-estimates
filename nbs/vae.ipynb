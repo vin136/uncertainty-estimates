{
  "cells": [
    {
      "cell_type": "markdown",
      "metadata": {
        "id": "view-in-github",
        "colab_type": "text"
      },
      "source": [
        "<a href=\"https://colab.research.google.com/github/vin136/uncertainty-estimates/blob/vin-ideas_1/nbs/vae.ipynb\" target=\"_parent\"><img src=\"https://colab.research.google.com/assets/colab-badge.svg\" alt=\"Open In Colab\"/></a>"
      ]
    },
    {
      "cell_type": "markdown",
      "id": "6b020818-cf5d-4b06-aa00-31a969ac433f",
      "metadata": {
        "id": "6b020818-cf5d-4b06-aa00-31a969ac433f"
      },
      "source": [
        "# Variational AutoEncoders\n",
        "Implementation References : [Pytorch-examples](https://github.com/pytorch/examples/blob/master/vae/main.py), [Deep-learning Course](https://sebastianraschka.com/blog/2021/dl-course.html#l17-variational-autoencoders)\n"
      ]
    },
    {
      "cell_type": "code",
      "execution_count": null,
      "id": "1623bb5c-05a7-404a-88fe-bd05d7acb51d",
      "metadata": {
        "id": "1623bb5c-05a7-404a-88fe-bd05d7acb51d"
      },
      "outputs": [],
      "source": [
        "# Train a VAE on MNIST\n",
        "import torch\n",
        "import torch.utils.data\n",
        "from torch import nn, optim\n",
        "from torch.nn import functional as F\n",
        "from torchvision import datasets, transforms\n",
        "from torchvision.utils import save_image\n",
        "\n",
        "\n",
        "class VAE(nn.Module):\n",
        "    def __init__(self):\n",
        "        super(VAE, self).__init__()\n",
        "\n",
        "        self.fc1 = nn.Linear(784, 400)\n",
        "        self.fc21 = nn.Linear(400, 20)\n",
        "        self.fc22 = nn.Linear(400, 20)\n",
        "        self.fc3 = nn.Linear(20, 400)\n",
        "        self.fc4 = nn.Linear(400, 784)\n",
        "\n",
        "    def encode(self, x):\n",
        "        h1 = F.relu(self.fc1(x))\n",
        "        return self.fc21(h1), self.fc22(h1)\n",
        "\n",
        "    def reparameterize(self, mu, logvar):\n",
        "        std = torch.exp(0.5*logvar)\n",
        "        eps = torch.randn_like(std)\n",
        "        return mu + eps*std\n",
        "\n",
        "    def decode(self, z):\n",
        "        h3 = F.relu(self.fc3(z))\n",
        "        return torch.sigmoid(self.fc4(h3))\n",
        "\n",
        "    def forward(self, x):\n",
        "        mu, logvar = self.encode(x.view(-1, 784))\n",
        "        z = self.reparameterize(mu, logvar)\n",
        "        return self.decode(z), mu, logvar"
      ]
    },
    {
      "cell_type": "code",
      "source": [
        "device = 'cuda'\n",
        "model = VAE().to(device)\n",
        "optimizer = optim.Adam(model.parameters(), lr=1e-3)"
      ],
      "metadata": {
        "id": "dXm28gMS1nko"
      },
      "id": "dXm28gMS1nko",
      "execution_count": null,
      "outputs": []
    },
    {
      "cell_type": "code",
      "source": [
        "# Reconstruction + KL divergence losses summed over all elements and batch\n",
        "def loss_function(recon_x, x, mu, logvar):\n",
        "    BCE = F.binary_cross_entropy(recon_x, x.view(-1, 784), reduction='sum')\n",
        "\n",
        "    # see Appendix B from VAE paper:\n",
        "    # Kingma and Welling. Auto-Encoding Variational Bayes. ICLR, 2014\n",
        "    # https://arxiv.org/abs/1312.6114\n",
        "    # 0.5 * sum(1 + log(sigma^2) - mu^2 - sigma^2)\n",
        "    KLD = -0.5 * torch.sum(1 + logvar - mu.pow(2) - logvar.exp())\n",
        "\n",
        "    return BCE + KLD"
      ],
      "metadata": {
        "id": "6V0-ioyj2c4I"
      },
      "id": "6V0-ioyj2c4I",
      "execution_count": null,
      "outputs": []
    },
    {
      "cell_type": "code",
      "source": [
        "def train(epoch):\n",
        "    model.train()\n",
        "    train_loss = 0\n",
        "    for batch_idx, (data, _) in enumerate(train_loader):\n",
        "        data = data.to(device)\n",
        "        optimizer.zero_grad()\n",
        "        recon_batch, mu, logvar = model(data)\n",
        "        loss = loss_function(recon_batch, data, mu, logvar)\n",
        "        loss.backward()\n",
        "        train_loss += loss.item()\n",
        "        optimizer.step()\n",
        "        if batch_idx % args.log_interval == 0:\n",
        "            print('Train Epoch: {} [{}/{} ({:.0f}%)]\\tLoss: {:.6f}'.format(\n",
        "                epoch, batch_idx * len(data), len(train_loader.dataset),\n",
        "                100. * batch_idx / len(train_loader),\n",
        "                loss.item() / len(data)))\n",
        "\n",
        "    print('====> Epoch: {} Average loss: {:.4f}'.format(\n",
        "          epoch, train_loss / len(train_loader.dataset)))\n",
        "\n",
        "\n",
        "def test(epoch):\n",
        "    model.eval()\n",
        "    test_loss = 0\n",
        "    with torch.no_grad():\n",
        "        for i, (data, _) in enumerate(test_loader):\n",
        "            data = data.to(device)\n",
        "            recon_batch, mu, logvar = model(data)\n",
        "            test_loss += loss_function(recon_batch, data, mu, logvar).item()\n",
        "            if i == 0:\n",
        "                n = min(data.size(0), 8)\n",
        "                comparison = torch.cat([data[:n],\n",
        "                                      recon_batch.view(args.batch_size, 1, 28, 28)[:n]])\n",
        "                #save_image(comparison.cpu(),\n",
        "                         #'results/reconstruction_' + str(epoch) + '.png', nrow=n)\n",
        "\n",
        "    test_loss /= len(test_loader.dataset)\n",
        "    print('====> Test set loss: {:.4f}'.format(test_loss))"
      ],
      "metadata": {
        "id": "TV50vAH31ilq"
      },
      "id": "TV50vAH31ilq",
      "execution_count": null,
      "outputs": []
    },
    {
      "cell_type": "code",
      "source": [
        "from argparse import Namespace\n",
        "args = Namespace(\n",
        "    epochs = 10,\n",
        "    seed = 0,\n",
        "    cuda = True,\n",
        "    batch_size = 128,\n",
        "    log_interval = 10000\n",
        "    \n",
        "   \n",
        ")\n",
        "\n",
        "\n",
        "\n",
        "import matplotlib.pyplot as plt\n",
        "from mpl_toolkits.axes_grid1 import ImageGrid\n",
        "import numpy as np\n",
        "\n",
        "\n",
        "\n"
      ],
      "metadata": {
        "id": "bJUxjjIS5AGl"
      },
      "id": "bJUxjjIS5AGl",
      "execution_count": null,
      "outputs": []
    },
    {
      "cell_type": "code",
      "source": [
        "\n",
        "torch.manual_seed(args.seed)\n",
        "\n",
        "device = torch.device(\"cuda\" if args.cuda else \"cpu\")\n",
        "\n",
        "kwargs = {'num_workers': 1, 'pin_memory': True} if args.cuda else {}\n",
        "\n",
        "train_loader = torch.utils.data.DataLoader(\n",
        "    datasets.MNIST('../data', train=True, download=True,\n",
        "                   transform=transforms.ToTensor()),\n",
        "    batch_size=args.batch_size, shuffle=True, **kwargs)\n",
        "\n",
        "test_loader = torch.utils.data.DataLoader(\n",
        "    datasets.MNIST('../data', train=False, transform=transforms.ToTensor()),\n",
        "    batch_size=args.batch_size, shuffle=True, **kwargs)\n",
        "\n",
        "\n",
        "\n",
        "\n",
        "\n",
        "\n",
        "for epoch in range(1, args.epochs + 1):\n",
        "        train(epoch)\n",
        "        test(epoch)\n",
        "        with torch.no_grad():\n",
        "            sample = torch.randn(4, 20).to(device)\n",
        "            sample = model.decode(sample).cpu()\n",
        "            #import pdb;pdb.set_trace()\n",
        "            sampled_imgs = sample.view(4, 28, 28).numpy()\n",
        "            imgs = [np.array(sampled_imgs[i,:,:]) for i in range(4)]\n",
        "            fig = plt.figure(figsize=(4., 4.))\n",
        "            grid = ImageGrid(fig, 111,  # similar to subplot(111)\n",
        "                 nrows_ncols=(2, 2),  # creates 2x2 grid of axes\n",
        "                 axes_pad=0.1,  # pad between axes in inch.\n",
        "                 )\n",
        "            for ax, im in zip(grid, imgs):\n",
        "              # Iterating over the grid returns the Axes.\n",
        "              ax.imshow(im,cmap = plt.cm.gray)\n",
        "\n",
        "            plt.show() \n",
        "            "
      ],
      "metadata": {
        "colab": {
          "base_uri": "https://localhost:8080/",
          "height": 1000
        },
        "id": "ldEZB6Mu45Oj",
        "outputId": "2baa3209-c8bb-4d2a-b8d9-cd7dace749c7"
      },
      "id": "ldEZB6Mu45Oj",
      "execution_count": null,
      "outputs": [
        {
          "output_type": "stream",
          "name": "stdout",
          "text": [
            "Train Epoch: 1 [0/60000 (0%)]\tLoss: 550.153198\n",
            "====> Epoch: 1 Average loss: 164.8235\n",
            "====> Test set loss: 127.4891\n"
          ]
        },
        {
          "output_type": "display_data",
          "data": {
            "image/png": "[encoded data removed]",
            "text/plain": [
              "<Figure size 288x288 with 8 Axes>"
            ]
          },
          "metadata": {
            "needs_background": "light"
          }
        },
        {
          "output_type": "stream",
          "name": "stdout",
          "text": [
            "Train Epoch: 2 [0/60000 (0%)]\tLoss: 127.430847\n",
            "====> Epoch: 2 Average loss: 121.2120\n",
            "====> Test set loss: 115.8314\n"
          ]
        },
        {
          "output_type": "display_data",
          "data": {
            "image/png": "[encoded data removed]",
            "text/plain": [
              "<Figure size 288x288 with 8 Axes>"
            ]
          },
          "metadata": {
            "needs_background": "light"
          }
        },
        {
          "output_type": "stream",
          "name": "stdout",
          "text": [
            "Train Epoch: 3 [0/60000 (0%)]\tLoss: 121.514389\n",
            "====> Epoch: 3 Average loss: 114.4246\n",
            "====> Test set loss: 111.9068\n"
          ]
        },
        {
          "output_type": "display_data",
          "data": {
            "image/png": "[encoded data removed]",
            "text/plain": [
              "<Figure size 288x288 with 8 Axes>"
            ]
          },
          "metadata": {
            "needs_background": "light"
          }
        },
        {
          "output_type": "stream",
          "name": "stdout",
          "text": [
            "Train Epoch: 4 [0/60000 (0%)]\tLoss: 109.403168\n",
            "====> Epoch: 4 Average loss: 111.5156\n",
            "====> Test set loss: 110.0864\n"
          ]
        },
        {
          "output_type": "display_data",
          "data": {
            "image/png": "[encoded data removed]",
            "text/plain": [
              "<Figure size 288x288 with 8 Axes>"
            ]
          },
          "metadata": {
            "needs_background": "light"
          }
        },
        {
          "output_type": "stream",
          "name": "stdout",
          "text": [
            "Train Epoch: 5 [0/60000 (0%)]\tLoss: 112.434387\n",
            "====> Epoch: 5 Average loss: 109.8203\n",
            "====> Test set loss: 108.6833\n"
          ]
        },
        {
          "output_type": "display_data",
          "data": {
            "image/png": "[encoded data removed]",
            "text/plain": [
              "<Figure size 288x288 with 8 Axes>"
            ]
          },
          "metadata": {
            "needs_background": "light"
          }
        },
        {
          "output_type": "stream",
          "name": "stdout",
          "text": [
            "Train Epoch: 6 [0/60000 (0%)]\tLoss: 106.353569\n",
            "====> Epoch: 6 Average loss: 108.6253\n",
            "====> Test set loss: 107.4762\n"
          ]
        },
        {
          "output_type": "display_data",
          "data": {
            "image/png": "[encoded data removed]",
            "text/plain": [
              "<Figure size 288x288 with 8 Axes>"
            ]
          },
          "metadata": {
            "needs_background": "light"
          }
        },
        {
          "output_type": "stream",
          "name": "stdout",
          "text": [
            "Train Epoch: 7 [0/60000 (0%)]\tLoss: 110.501450\n",
            "====> Epoch: 7 Average loss: 107.7246\n",
            "====> Test set loss: 106.8298\n"
          ]
        },
        {
          "output_type": "display_data",
          "data": {
            "image/png": "[encoded data removed]",
            "text/plain": [
              "<Figure size 288x288 with 8 Axes>"
            ]
          },
          "metadata": {
            "needs_background": "light"
          }
        },
        {
          "output_type": "stream",
          "name": "stdout",
          "text": [
            "Train Epoch: 8 [0/60000 (0%)]\tLoss: 106.657860\n",
            "====> Epoch: 8 Average loss: 107.0220\n",
            "====> Test set loss: 106.3602\n"
          ]
        },
        {
          "output_type": "display_data",
          "data": {
            "image/png": "[encoded data removed]",
            "text/plain": [
              "<Figure size 288x288 with 8 Axes>"
            ]
          },
          "metadata": {
            "needs_background": "light"
          }
        },
        {
          "output_type": "stream",
          "name": "stdout",
          "text": [
            "Train Epoch: 9 [0/60000 (0%)]\tLoss: 107.809410\n",
            "====> Epoch: 9 Average loss: 106.5273\n",
            "====> Test set loss: 105.7847\n"
          ]
        },
        {
          "output_type": "display_data",
          "data": {
            "image/png": "[encoded data removed]",
            "text/plain": [
              "<Figure size 288x288 with 8 Axes>"
            ]
          },
          "metadata": {
            "needs_background": "light"
          }
        },
        {
          "output_type": "stream",
          "name": "stdout",
          "text": [
            "Train Epoch: 10 [0/60000 (0%)]\tLoss: 111.874252\n",
            "====> Epoch: 10 Average loss: 106.0927\n",
            "====> Test set loss: 105.7465\n"
          ]
        },
        {
          "output_type": "display_data",
          "data": {
            "image/png": "[encoded data removed]",
            "text/plain": [
              "<Figure size 288x288 with 8 Axes>"
            ]
          },
          "metadata": {
            "needs_background": "light"
          }
        }
      ]
    },
    {
      "cell_type": "code",
      "source": [
        ""
      ],
      "metadata": {
        "id": "EQrNgSQt55dd"
      },
      "id": "EQrNgSQt55dd",
      "execution_count": null,
      "outputs": []
    },
    {
      "cell_type": "markdown",
      "source": [
        "Implementation:2 \n",
        "A more didactic imp."
      ],
      "metadata": {
        "id": "FH56_FwhZaIj"
      },
      "id": "FH56_FwhZaIj"
    },
    {
      "cell_type": "code",
      "source": [
        ""
      ],
      "metadata": {
        "id": "_l6rB8ORZf_5"
      },
      "id": "_l6rB8ORZf_5",
      "execution_count": null,
      "outputs": []
    },
    {
      "cell_type": "markdown",
      "source": [
        "# Helper Functions"
      ],
      "metadata": {
        "id": "An1EFRa6njfg"
      },
      "id": "An1EFRa6njfg"
    },
    {
      "cell_type": "markdown",
      "source": [
        "## Load-data"
      ],
      "metadata": {
        "id": "EUBcmE8ynm7X"
      },
      "id": "EUBcmE8ynm7X"
    },
    {
      "cell_type": "code",
      "source": [
        "import torch\n",
        "from torchvision import datasets\n",
        "from torchvision import transforms\n",
        "from torch.utils.data import DataLoader\n",
        "from torch.utils.data import SubsetRandomSampler\n",
        "from torch.utils.data import sampler\n",
        "\n",
        "\n",
        "class UnNormalize(object):\n",
        "    def __init__(self, mean, std):\n",
        "        self.mean = mean\n",
        "        self.std = std\n",
        "\n",
        "    def __call__(self, tensor):\n",
        "        \"\"\"\n",
        "        Parameters:\n",
        "        ------------\n",
        "        tensor (Tensor): Tensor image of size (C, H, W) to be normalized.\n",
        "        \n",
        "        Returns:\n",
        "        ------------\n",
        "        Tensor: Normalized image.\n",
        "        \"\"\"\n",
        "        for t, m, s in zip(tensor, self.mean, self.std):\n",
        "            t.mul_(s).add_(m)\n",
        "        return tensor\n",
        "\n",
        "\n",
        "class ChunkSampler(sampler.Sampler):\n",
        "    \"\"\"Samples elements sequentially from some offset. \n",
        "    Arguments:\n",
        "        num_samples: # of desired datapoints\n",
        "        start: offset where we should start selecting from\n",
        "    \"\"\"\n",
        "    def __init__(self, num_samples, start=0):\n",
        "        self.num_samples = num_samples\n",
        "        self.start = start\n",
        "\n",
        "    def __iter__(self):\n",
        "        return iter(range(self.start, self.start + self.num_samples))\n",
        "\n",
        "    def __len__(self):\n",
        "        return self.num_samples\n",
        "\n",
        "\n",
        "def get_dataloaders_cifar10(batch_size, num_workers=0,\n",
        "                            validation_fraction=None,\n",
        "                            train_transforms=None, test_transforms=None):\n",
        "\n",
        "    if train_transforms is None:\n",
        "        train_transforms = transforms.ToTensor()\n",
        "\n",
        "    if test_transforms is None:\n",
        "        test_transforms = transforms.ToTensor()\n",
        "\n",
        "    train_dataset = datasets.CIFAR10(root='data',\n",
        "                                     train=True,\n",
        "                                     transform=train_transforms,\n",
        "                                     download=True)\n",
        "\n",
        "    valid_dataset = datasets.CIFAR10(root='data',\n",
        "                                     train=True,\n",
        "                                     transform=test_transforms)\n",
        "\n",
        "    test_dataset = datasets.CIFAR10(root='data',\n",
        "                                    train=False,\n",
        "                                    transform=test_transforms)\n",
        "\n",
        "\n",
        "    if validation_fraction is not None:\n",
        "        num = int(validation_fraction * 50000)\n",
        "        train_indices = torch.arange(0, 50000 - num)\n",
        "        valid_indices = torch.arange(50000 - num, 50000)\n",
        "\n",
        "        #train_sampler = SubsetRandomSampler(train_indices)\n",
        "        #valid_sampler = SubsetRandomSampler(valid_indices)\n",
        "        train_sampler = ChunkSampler(train_indices.shape[0], 0)\n",
        "        valid_sampler = ChunkSampler(valid_indices.shape[0], train_indices.shape[0])\n",
        "\n",
        "        valid_loader = DataLoader(dataset=valid_dataset,\n",
        "                                  batch_size=batch_size,\n",
        "                                  num_workers=num_workers,\n",
        "                                  sampler=valid_sampler)\n",
        "\n",
        "        train_loader = DataLoader(dataset=train_dataset,\n",
        "                                  batch_size=batch_size,\n",
        "                                  num_workers=num_workers,\n",
        "                                  drop_last=True,\n",
        "                                  sampler=train_sampler)\n",
        "\n",
        "    else:\n",
        "        train_loader = DataLoader(dataset=train_dataset,\n",
        "                                  batch_size=batch_size,\n",
        "                                  num_workers=num_workers,\n",
        "                                  shuffle=True)\n",
        "\n",
        "    test_loader = DataLoader(dataset=test_dataset,\n",
        "                             batch_size=batch_size,\n",
        "                             num_workers=num_workers,\n",
        "                             shuffle=False)\n",
        "\n",
        "    if validation_fraction is None:\n",
        "        return train_loader, test_loader\n",
        "    else:\n",
        "        return train_loader, valid_loader, test_loader\n",
        "\n",
        "\n",
        "def get_dataloaders_mnist(batch_size, num_workers=0,\n",
        "                          validation_fraction=None,\n",
        "                          train_transforms=None, test_transforms=None):\n",
        "\n",
        "    if train_transforms is None:\n",
        "        train_transforms = transforms.ToTensor()\n",
        "\n",
        "    if test_transforms is None:\n",
        "        test_transforms = transforms.ToTensor()\n",
        "\n",
        "    train_dataset = datasets.MNIST(root='data',\n",
        "                                   train=True,\n",
        "                                   transform=train_transforms,\n",
        "                                   download=True)\n",
        "\n",
        "    valid_dataset = datasets.MNIST(root='data',\n",
        "                                   train=True,\n",
        "                                   transform=test_transforms)\n",
        "\n",
        "    test_dataset = datasets.MNIST(root='data',\n",
        "                                  train=False,\n",
        "                                  transform=test_transforms)\n",
        "\n",
        "    if validation_fraction is not None:\n",
        "        num = int(validation_fraction * 60000)\n",
        "        train_indices = torch.arange(0, 60000 - num)\n",
        "        valid_indices = torch.arange(60000 - num, 60000)\n",
        "\n",
        "        train_sampler = SubsetRandomSampler(train_indices)\n",
        "        valid_sampler = SubsetRandomSampler(valid_indices)\n",
        "\n",
        "        valid_loader = DataLoader(dataset=valid_dataset,\n",
        "                                  batch_size=batch_size,\n",
        "                                  num_workers=num_workers,\n",
        "                                  sampler=valid_sampler)\n",
        "\n",
        "        train_loader = DataLoader(dataset=train_dataset,\n",
        "                                  batch_size=batch_size,\n",
        "                                  num_workers=num_workers,\n",
        "                                  drop_last=True,\n",
        "                                  sampler=train_sampler)\n",
        "    else:\n",
        "        train_loader = DataLoader(dataset=train_dataset,\n",
        "                                  batch_size=batch_size,\n",
        "                                  num_workers=num_workers,\n",
        "                                  shuffle=True)\n",
        "\n",
        "    test_loader = DataLoader(dataset=test_dataset,\n",
        "                             batch_size=batch_size,\n",
        "                             num_workers=num_workers,\n",
        "                             shuffle=False)\n",
        "\n",
        "    if validation_fraction is None:\n",
        "        return train_loader, test_loader\n",
        "    else:\n",
        "        return train_loader, valid_loader, test_loader\n",
        "\n",
        "    \n",
        "def get_dataloaders_celeba(batch_size, num_workers=0,\n",
        "                           train_transforms=None,\n",
        "                           test_transforms=None,\n",
        "                           download=True):\n",
        "    \"\"\"Targets are 40-dim vectors representing\n",
        "    00 - 5_o_Clock_Shadow\n",
        "    01 - Arched_Eyebrows\n",
        "    02 - Attractive \n",
        "    03 - Bags_Under_Eyes\n",
        "    04 - Bald\n",
        "    05 - Bangs\n",
        "    06 - Big_Lips\n",
        "    07 - Big_Nose\n",
        "    08 - Black_Hair\n",
        "    09 - Blond_Hair\n",
        "    10 - Blurry \n",
        "    11 - Brown_Hair \n",
        "    12 - Bushy_Eyebrows \n",
        "    13 - Chubby \n",
        "    14 - Double_Chin \n",
        "    15 - Eyeglasses \n",
        "    16 - Goatee \n",
        "    17 - Gray_Hair \n",
        "    18 - Heavy_Makeup \n",
        "    19 - High_Cheekbones \n",
        "    20 - Male \n",
        "    21 - Mouth_Slightly_Open \n",
        "    22 - Mustache \n",
        "    23 - Narrow_Eyes \n",
        "    24 - No_Beard \n",
        "    25 - Oval_Face \n",
        "    26 - Pale_Skin \n",
        "    27 - Pointy_Nose \n",
        "    28 - Receding_Hairline \n",
        "    29 - Rosy_Cheeks \n",
        "    30 - Sideburns \n",
        "    31 - Smiling \n",
        "    32 - Straight_Hair \n",
        "    33 - Wavy_Hair \n",
        "    34 - Wearing_Earrings \n",
        "    35 - Wearing_Hat \n",
        "    36 - Wearing_Lipstick \n",
        "    37 - Wearing_Necklace \n",
        "    38 - Wearing_Necktie \n",
        "    39 - Young         \n",
        "    \"\"\"\n",
        "\n",
        "    if train_transforms is None:\n",
        "        train_transforms = transforms.ToTensor()\n",
        "\n",
        "    if test_transforms is None:\n",
        "        test_transforms = transforms.ToTensor()\n",
        "\n",
        "    train_dataset = datasets.CelebA(root='data',\n",
        "                                    split='train',\n",
        "                                    transform=train_transforms,\n",
        "                                    download=download)\n",
        "\n",
        "    valid_dataset = datasets.CelebA(root='data',\n",
        "                                    split='valid',\n",
        "                                    transform=test_transforms)\n",
        "\n",
        "    test_dataset = datasets.CelebA(root='data',\n",
        "                                   split='test',\n",
        "                                   transform=test_transforms)\n",
        "\n",
        "\n",
        "    train_loader = DataLoader(dataset=train_dataset,\n",
        "                              batch_size=batch_size,\n",
        "                              num_workers=num_workers,\n",
        "                              shuffle=True)\n",
        "\n",
        "    valid_loader = DataLoader(dataset=test_dataset,\n",
        "                             batch_size=batch_size,\n",
        "                             num_workers=num_workers,\n",
        "                             shuffle=False)\n",
        "    \n",
        "    test_loader = DataLoader(dataset=test_dataset,\n",
        "                             batch_size=batch_size,\n",
        "                             num_workers=num_workers,\n",
        "                             shuffle=False)\n",
        "\n",
        "    return train_loader, valid_loader, test_loader\n",
        "\n",
        "\n",
        "def compute_average_faces(feature_idx, image_dim, data_loader, device=None, encoding_fn=None):\n",
        "\n",
        "    avg_img_with_feat = torch.zeros(image_dim, dtype=torch.float32)\n",
        "    avg_img_without_feat = torch.zeros(image_dim, dtype=torch.float32)\n",
        "\n",
        "    num_img_with_feat = 0\n",
        "    num_images_without_feat = 0\n",
        "\n",
        "    for images, labels in data_loader:  \n",
        "        idx_img_with_feat = labels[:, feature_idx].to(torch.bool)\n",
        "\n",
        "        if encoding_fn is None:\n",
        "            embeddings = images\n",
        "        else:\n",
        "            ####################################\n",
        "            ### Get latent representation\n",
        "            with torch.no_grad():\n",
        "\n",
        "                if device is not None:\n",
        "                    images = images.to(device)\n",
        "                embeddings = encoding_fn(images).to('cpu')\n",
        "            ####################################    \n",
        "\n",
        "        avg_img_with_feat += torch.sum(embeddings[idx_img_with_feat], axis=0)\n",
        "        avg_img_without_feat += torch.sum(embeddings[~idx_img_with_feat], axis=0)\n",
        "        num_img_with_feat += idx_img_with_feat.sum(axis=0)\n",
        "        num_images_without_feat += (~idx_img_with_feat).sum(axis=0)\n",
        "\n",
        "    avg_img_with_feat /= num_img_with_feat\n",
        "    avg_img_without_feat /= num_images_without_feat\n",
        "    \n",
        "    return avg_img_with_feat, avg_img_without_feat"
      ],
      "metadata": {
        "id": "NIkEmty_nmEX"
      },
      "id": "NIkEmty_nmEX",
      "execution_count": 16,
      "outputs": []
    },
    {
      "cell_type": "code",
      "source": [
        ""
      ],
      "metadata": {
        "id": "87WRAZTynvN6"
      },
      "id": "87WRAZTynvN6",
      "execution_count": null,
      "outputs": []
    },
    {
      "cell_type": "markdown",
      "source": [
        "## Evaluate"
      ],
      "metadata": {
        "id": "6xwGDhkBn5EL"
      },
      "id": "6xwGDhkBn5EL"
    },
    {
      "cell_type": "code",
      "source": [
        "import torch\n",
        "import torch.nn.functional as F\n",
        "\n",
        "\n",
        "def compute_accuracy(model, data_loader, device):\n",
        "    model.eval()\n",
        "    with torch.no_grad():\n",
        "        correct_pred, num_examples = 0, 0\n",
        "        for i, (features, targets) in enumerate(data_loader):\n",
        "\n",
        "            features = features.to(device)\n",
        "            targets = targets.to(device)\n",
        "\n",
        "            logits = model(features)\n",
        "            _, predicted_labels = torch.max(logits, 1)\n",
        "            num_examples += targets.size(0)\n",
        "            correct_pred += (predicted_labels == targets).sum()\n",
        "    return correct_pred.float()/num_examples * 100\n",
        "\n",
        "\n",
        "def compute_epoch_loss_classifier(model, data_loader, loss_fn, device):\n",
        "    model.eval()\n",
        "    curr_loss, num_examples = 0., 0\n",
        "    with torch.no_grad():\n",
        "        for features, targets in data_loader:\n",
        "            features = features.to(device)\n",
        "            targets = targets.to(device)\n",
        "            logits = model(features)\n",
        "            loss = loss_fn(logits, targets, reduction='sum')\n",
        "            num_examples += targets.size(0)\n",
        "            curr_loss += loss\n",
        "\n",
        "        curr_loss = curr_loss / num_examples\n",
        "        return curr_loss\n",
        "    \n",
        "\n",
        "def compute_epoch_loss_autoencoder(model, data_loader, loss_fn, device):\n",
        "    model.eval()\n",
        "    curr_loss, num_examples = 0., 0\n",
        "    with torch.no_grad():\n",
        "        for features, _ in data_loader:\n",
        "            features = features.to(device)\n",
        "            logits = model(features)\n",
        "            loss = loss_fn(logits, features, reduction='sum')\n",
        "            num_examples += features.size(0)\n",
        "            curr_loss += loss\n",
        "\n",
        "        curr_loss = curr_loss / num_examples\n",
        "        return curr_loss"
      ],
      "metadata": {
        "id": "Ll7eNzOgn7ol"
      },
      "id": "Ll7eNzOgn7ol",
      "execution_count": 17,
      "outputs": []
    },
    {
      "cell_type": "markdown",
      "source": [
        "## Plotting"
      ],
      "metadata": {
        "id": "98HGzWQroCjl"
      },
      "id": "98HGzWQroCjl"
    },
    {
      "cell_type": "code",
      "source": [
        "import numpy as np\n",
        "import os\n",
        "import torch\n",
        "import matplotlib.pyplot as plt\n",
        "import matplotlib.colors as mcolors\n",
        "\n",
        "\n",
        "def plot_training_loss(minibatch_losses, num_epochs, averaging_iterations=100, custom_label=''):\n",
        "\n",
        "    iter_per_epoch = len(minibatch_losses) // num_epochs\n",
        "\n",
        "    plt.figure()\n",
        "    ax1 = plt.subplot(1, 1, 1)\n",
        "    ax1.plot(range(len(minibatch_losses)),\n",
        "             (minibatch_losses), label=f'Minibatch Loss{custom_label}')\n",
        "    ax1.set_xlabel('Iterations')\n",
        "    ax1.set_ylabel('Loss')\n",
        "\n",
        "    if len(minibatch_losses) < 1000:\n",
        "        num_losses = len(minibatch_losses) // 2\n",
        "    else:\n",
        "        num_losses = 1000\n",
        "\n",
        "    ax1.set_ylim([\n",
        "        0, np.max(minibatch_losses[num_losses:])*1.5\n",
        "        ])\n",
        "\n",
        "    ax1.plot(np.convolve(minibatch_losses,\n",
        "                         np.ones(averaging_iterations,)/averaging_iterations,\n",
        "                         mode='valid'),\n",
        "             label=f'Running Average{custom_label}')\n",
        "    ax1.legend()\n",
        "\n",
        "    ###################\n",
        "    # Set scond x-axis\n",
        "    ax2 = ax1.twiny()\n",
        "    newlabel = list(range(num_epochs+1))\n",
        "\n",
        "    newpos = [e*iter_per_epoch for e in newlabel]\n",
        "\n",
        "    ax2.set_xticks(newpos[::10])\n",
        "    ax2.set_xticklabels(newlabel[::10])\n",
        "\n",
        "    ax2.xaxis.set_ticks_position('bottom')\n",
        "    ax2.xaxis.set_label_position('bottom')\n",
        "    ax2.spines['bottom'].set_position(('outward', 45))\n",
        "    ax2.set_xlabel('Epochs')\n",
        "    ax2.set_xlim(ax1.get_xlim())\n",
        "    ###################\n",
        "\n",
        "    plt.tight_layout()\n",
        "    \n",
        "    \n",
        "def plot_accuracy(train_acc, valid_acc):\n",
        "\n",
        "    num_epochs = len(train_acc)\n",
        "\n",
        "    plt.plot(np.arange(1, num_epochs+1), \n",
        "             train_acc, label='Training')\n",
        "    plt.plot(np.arange(1, num_epochs+1),\n",
        "             valid_acc, label='Validation')\n",
        "\n",
        "    plt.xlabel('Epoch')\n",
        "    plt.ylabel('Accuracy')\n",
        "    plt.legend()\n",
        "\n",
        "    plt.tight_layout()\n",
        "    \n",
        "    \n",
        "def plot_generated_images(data_loader, model, device, \n",
        "                          unnormalizer=None,\n",
        "                          figsize=(20, 2.5), n_images=15, modeltype='autoencoder'):\n",
        "\n",
        "    fig, axes = plt.subplots(nrows=2, ncols=n_images, \n",
        "                             sharex=True, sharey=True, figsize=figsize)\n",
        "    \n",
        "    for batch_idx, (features, _) in enumerate(data_loader):\n",
        "        \n",
        "        features = features.to(device)\n",
        "\n",
        "        color_channels = features.shape[1]\n",
        "        image_height = features.shape[2]\n",
        "        image_width = features.shape[3]\n",
        "        \n",
        "        with torch.no_grad():\n",
        "            if modeltype == 'autoencoder':\n",
        "                decoded_images = model(features)[:n_images]\n",
        "            elif modeltype == 'VAE':\n",
        "                encoded, z_mean, z_log_var, decoded_images = model(features)[:n_images]\n",
        "            else:\n",
        "                raise ValueError('`modeltype` not supported')\n",
        "\n",
        "        orig_images = features[:n_images]\n",
        "        break\n",
        "\n",
        "    for i in range(n_images):\n",
        "        for ax, img in zip(axes, [orig_images, decoded_images]):\n",
        "            curr_img = img[i].detach().to(torch.device('cpu'))        \n",
        "            if unnormalizer is not None:\n",
        "                curr_img = unnormalizer(curr_img)\n",
        "\n",
        "            if color_channels > 1:\n",
        "                curr_img = np.transpose(curr_img, (1, 2, 0))\n",
        "                ax[i].imshow(curr_img)\n",
        "            else:\n",
        "                ax[i].imshow(curr_img.view((image_height, image_width)), cmap='binary')\n",
        "                \n",
        "                \n",
        "def plot_latent_space_with_labels(num_classes, data_loader, encoding_fn, device):\n",
        "    d = {i:[] for i in range(num_classes)}\n",
        "\n",
        "    with torch.no_grad():\n",
        "        for i, (features, targets) in enumerate(data_loader):\n",
        "\n",
        "            features = features.to(device)\n",
        "            targets = targets.to(device)\n",
        "            \n",
        "            embedding = encoding_fn(features)\n",
        "\n",
        "            for i in range(num_classes):\n",
        "                if i in targets:\n",
        "                    mask = targets == i\n",
        "                    d[i].append(embedding[mask].to('cpu').numpy())\n",
        "\n",
        "    colors = list(mcolors.TABLEAU_COLORS.items())\n",
        "    for i in range(num_classes):\n",
        "        d[i] = np.concatenate(d[i])\n",
        "        plt.scatter(\n",
        "            d[i][:, 0], d[i][:, 1],\n",
        "            color=colors[i][1],\n",
        "            label=f'{i}',\n",
        "            alpha=0.5)\n",
        "\n",
        "    plt.legend()\n",
        "    \n",
        "    \n",
        "def plot_images_sampled_from_vae(model, device, latent_size, unnormalizer=None, num_images=10):\n",
        "\n",
        "    with torch.no_grad():\n",
        "\n",
        "        ##########################\n",
        "        ### RANDOM SAMPLE\n",
        "        ##########################    \n",
        "\n",
        "        rand_features = torch.randn(num_images, latent_size).to(device)\n",
        "        new_images = model.decoder(rand_features)\n",
        "        color_channels = new_images.shape[1]\n",
        "        image_height = new_images.shape[2]\n",
        "        image_width = new_images.shape[3]\n",
        "\n",
        "        ##########################\n",
        "        ### VISUALIZATION\n",
        "        ##########################\n",
        "\n",
        "        image_width = 28\n",
        "\n",
        "        fig, axes = plt.subplots(nrows=1, ncols=num_images, figsize=(10, 2.5), sharey=True)\n",
        "        decoded_images = new_images[:num_images]\n",
        "\n",
        "        for ax, img in zip(axes, decoded_images):\n",
        "            curr_img = img.detach().to(torch.device('cpu'))        \n",
        "            if unnormalizer is not None:\n",
        "                curr_img = unnormalizer(curr_img)\n",
        "\n",
        "            if color_channels > 1:\n",
        "                curr_img = np.transpose(curr_img, (1, 2, 0))\n",
        "                ax.imshow(curr_img)\n",
        "            else:\n",
        "                ax.imshow(curr_img.view((image_height, image_width)), cmap='binary') \n",
        "                \n",
        "                \n",
        "def plot_modified_faces(original, diff,\n",
        "                        diff_coefficients=(0., 0.5, 1., 1.5, 2., 2.5, 3.),\n",
        "                        decoding_fn=None,\n",
        "                        device=None,\n",
        "                        figsize=(8, 2.5)):\n",
        "\n",
        "    fig, axes = plt.subplots(nrows=2, ncols=len(diff_coefficients), \n",
        "                             sharex=True, sharey=True, figsize=figsize)\n",
        "    \n",
        "\n",
        "    for i, alpha in enumerate(diff_coefficients):\n",
        "        more = original + alpha*diff\n",
        "        less = original - alpha*diff\n",
        "        \n",
        "        \n",
        "        if decoding_fn is not None:\n",
        "            ######################################\n",
        "            ### Latent -> Original space\n",
        "            with torch.no_grad():\n",
        "\n",
        "                if device is not None:\n",
        "                    more = more.to(device).unsqueeze(0)\n",
        "                    less = less.to(device).unsqueeze(0)\n",
        "\n",
        "                more = decoding_fn(more).to('cpu').squeeze(0)\n",
        "                less = decoding_fn(less).to('cpu').squeeze(0)\n",
        "            ###################################### \n",
        "        \n",
        "        if not alpha:\n",
        "            s = 'original'\n",
        "        else:\n",
        "            s = f'$\\\\alpha=${alpha}'\n",
        "            \n",
        "        axes[0][i].set_title(s)\n",
        "        axes[0][i].imshow(more.permute(1, 2, 0))\n",
        "        axes[1][i].imshow(less.permute(1, 2, 0))\n",
        "        axes[1][i].axison = False\n",
        "        axes[0][i].axison = False\n",
        "        \n",
        "\n",
        "\n"
      ],
      "metadata": {
        "id": "VYX9jyh0oD5a"
      },
      "id": "VYX9jyh0oD5a",
      "execution_count": 18,
      "outputs": []
    },
    {
      "cell_type": "markdown",
      "source": [
        "## Train"
      ],
      "metadata": {
        "id": "vVK337sQoE0t"
      },
      "id": "vVK337sQoE0t"
    },
    {
      "cell_type": "code",
      "source": [
        "\n",
        "\n",
        "import time\n",
        "import torch\n",
        "import torch.nn.functional as F\n",
        "\n",
        "from collections import OrderedDict\n",
        "import json\n",
        "import subprocess\n",
        "import sys\n",
        "import xml.etree.ElementTree\n",
        "\n",
        "    \n",
        "def train_classifier_simple_v1(num_epochs, model, optimizer, device, \n",
        "                               train_loader, valid_loader=None, \n",
        "                               loss_fn=None, logging_interval=100, \n",
        "                               skip_epoch_stats=False):\n",
        "    \n",
        "    log_dict = {'train_loss_per_batch': [],\n",
        "                'train_acc_per_epoch': [],\n",
        "                'train_loss_per_epoch': [],\n",
        "                'valid_acc_per_epoch': [],\n",
        "                'valid_loss_per_epoch': []}\n",
        "    \n",
        "    if loss_fn is None:\n",
        "        loss_fn = F.cross_entropy\n",
        "\n",
        "    start_time = time.time()\n",
        "    for epoch in range(num_epochs):\n",
        "\n",
        "        model.train()\n",
        "        for batch_idx, (features, targets) in enumerate(train_loader):\n",
        "\n",
        "            features = features.to(device)\n",
        "            targets = targets.to(device)\n",
        "\n",
        "            # FORWARD AND BACK PROP\n",
        "            logits = model(features)\n",
        "            loss = loss_fn(logits, targets)\n",
        "            optimizer.zero_grad()\n",
        "\n",
        "            loss.backward()\n",
        "\n",
        "            # UPDATE MODEL PARAMETERS\n",
        "            optimizer.step()\n",
        "\n",
        "            # LOGGING\n",
        "            log_dict['train_loss_per_batch'].append(loss.item())\n",
        "            \n",
        "            if not batch_idx % logging_interval:\n",
        "                print('Epoch: %03d/%03d | Batch %04d/%04d | Loss: %.4f'\n",
        "                      % (epoch+1, num_epochs, batch_idx,\n",
        "                          len(train_loader), loss))\n",
        "\n",
        "        if not skip_epoch_stats:\n",
        "            model.eval()\n",
        "\n",
        "            \n",
        "            \n",
        "            with torch.set_grad_enabled(False):  # save memory during inference\n",
        "                \n",
        "                train_acc = compute_accuracy(model, train_loader, device)\n",
        "                train_loss = compute_epoch_loss_classifier(\n",
        "                    model, train_loader, loss_fn, device)\n",
        "                print('***Epoch: %03d/%03d | Train. Acc.: %.3f%% | Loss: %.3f' % (\n",
        "                      epoch+1, num_epochs, train_acc, train_loss))\n",
        "                log_dict['train_loss_per_epoch'].append(train_loss.item())\n",
        "                log_dict['train_acc_per_epoch'].append(train_acc.item())\n",
        "\n",
        "                if valid_loader is not None:\n",
        "                    valid_acc = compute_accuracy(model, valid_loader, device)\n",
        "                    valid_loss = compute_epoch_loss_classifier(\n",
        "                        model, valid_loader, loss_fn, device)\n",
        "                    print('***Epoch: %03d/%03d | Valid. Acc.: %.3f%% | Loss: %.3f' % (\n",
        "                          epoch+1, num_epochs, valid_acc, valid_loss))\n",
        "                    log_dict['valid_loss_per_epoch'].append(valid_loss.item())\n",
        "                    log_dict['valid_acc_per_epoch'].append(valid_acc.item())\n",
        "\n",
        "        print('Time elapsed: %.2f min' % ((time.time() - start_time)/60))\n",
        "\n",
        "    print('Total Training Time: %.2f min' % ((time.time() - start_time)/60))\n",
        "    \n",
        "    return log_dict\n",
        "\n",
        "\n",
        "def train_autoencoder_v1(num_epochs, model, optimizer, device, \n",
        "                         train_loader, loss_fn=None,\n",
        "                         logging_interval=100, \n",
        "                         skip_epoch_stats=False,\n",
        "                         save_model=None):\n",
        "    \n",
        "    log_dict = {'train_loss_per_batch': [],\n",
        "                'train_loss_per_epoch': []}\n",
        "    \n",
        "    if loss_fn is None:\n",
        "        loss_fn = F.mse_loss\n",
        "\n",
        "    start_time = time.time()\n",
        "    for epoch in range(num_epochs):\n",
        "\n",
        "        model.train()\n",
        "        for batch_idx, (features, _) in enumerate(train_loader):\n",
        "\n",
        "            features = features.to(device)\n",
        "\n",
        "            # FORWARD AND BACK PROP\n",
        "            logits = model(features)\n",
        "            loss = loss_fn(logits, features)\n",
        "            optimizer.zero_grad()\n",
        "\n",
        "            loss.backward()\n",
        "\n",
        "            # UPDATE MODEL PARAMETERS\n",
        "            optimizer.step()\n",
        "\n",
        "            # LOGGING\n",
        "            log_dict['train_loss_per_batch'].append(loss.item())\n",
        "            \n",
        "            if not batch_idx % logging_interval:\n",
        "                print('Epoch: %03d/%03d | Batch %04d/%04d | Loss: %.4f'\n",
        "                      % (epoch+1, num_epochs, batch_idx,\n",
        "                          len(train_loader), loss))\n",
        "\n",
        "        if not skip_epoch_stats:\n",
        "            model.eval()\n",
        "            \n",
        "            with torch.set_grad_enabled(False):  # save memory during inference\n",
        "                \n",
        "                train_loss = compute_epoch_loss_autoencoder(\n",
        "                    model, train_loader, loss_fn, device)\n",
        "                print('***Epoch: %03d/%03d | Loss: %.3f' % (\n",
        "                      epoch+1, num_epochs, train_loss))\n",
        "                log_dict['train_loss_per_epoch'].append(train_loss.item())\n",
        "\n",
        "        print('Time elapsed: %.2f min' % ((time.time() - start_time)/60))\n",
        "\n",
        "    print('Total Training Time: %.2f min' % ((time.time() - start_time)/60))\n",
        "    if save_model is not None:\n",
        "        torch.save(model.state_dict(), save_model)\n",
        "    \n",
        "    return log_dict\n",
        "\n",
        "\n",
        "def train_vae_v1(num_epochs, model, optimizer, device, \n",
        "                 train_loader, loss_fn=None,\n",
        "                 logging_interval=100, \n",
        "                 skip_epoch_stats=False,\n",
        "                 reconstruction_term_weight=1,\n",
        "                 save_model=None):\n",
        "    \n",
        "    log_dict = {'train_combined_loss_per_batch': [],\n",
        "                'train_combined_loss_per_epoch': [],\n",
        "                'train_reconstruction_loss_per_batch': [],\n",
        "                'train_kl_loss_per_batch': []}\n",
        "\n",
        "    if loss_fn is None:\n",
        "        loss_fn = F.mse_loss\n",
        "\n",
        "    start_time = time.time()\n",
        "    for epoch in range(num_epochs):\n",
        "\n",
        "        model.train()\n",
        "        for batch_idx, (features, _) in enumerate(train_loader):\n",
        "\n",
        "            features = features.to(device)\n",
        "\n",
        "            # FORWARD AND BACK PROP\n",
        "            encoded, z_mean, z_log_var, decoded = model(features)\n",
        "            \n",
        "            # total loss = reconstruction loss + KL divergence\n",
        "            #kl_divergence = (0.5 * (z_mean**2 + \n",
        "            #                        torch.exp(z_log_var) - z_log_var - 1)).sum()\n",
        "            kl_div = -0.5 * torch.sum(1 + z_log_var \n",
        "                                      - z_mean**2 \n",
        "                                      - torch.exp(z_log_var), \n",
        "                                      axis=1) # sum over latent dimension\n",
        "\n",
        "            batchsize = kl_div.size(0)\n",
        "            kl_div = kl_div.mean() # average over batch dimension\n",
        "    \n",
        "            pixelwise = loss_fn(decoded, features, reduction='none')\n",
        "            pixelwise = pixelwise.view(batchsize, -1).sum(axis=1) # sum over pixels\n",
        "            pixelwise = pixelwise.mean() # average over batch dimension\n",
        "            \n",
        "            loss = reconstruction_term_weight*pixelwise + kl_div\n",
        "            \n",
        "            optimizer.zero_grad()\n",
        "\n",
        "            loss.backward()\n",
        "\n",
        "            # UPDATE MODEL PARAMETERS\n",
        "            optimizer.step()\n",
        "\n",
        "            # LOGGING\n",
        "            log_dict['train_combined_loss_per_batch'].append(loss.item())\n",
        "            log_dict['train_reconstruction_loss_per_batch'].append(pixelwise.item())\n",
        "            log_dict['train_kl_loss_per_batch'].append(kl_div.item())\n",
        "            \n",
        "            if not batch_idx % logging_interval:\n",
        "                print('Epoch: %03d/%03d | Batch %04d/%04d | Loss: %.4f'\n",
        "                      % (epoch+1, num_epochs, batch_idx,\n",
        "                          len(train_loader), loss))\n",
        "\n",
        "        if not skip_epoch_stats:\n",
        "            model.eval()\n",
        "            \n",
        "            with torch.set_grad_enabled(False):  # save memory during inference\n",
        "                \n",
        "                train_loss = compute_epoch_loss_autoencoder(\n",
        "                    model, train_loader, loss_fn, device)\n",
        "                print('***Epoch: %03d/%03d | Loss: %.3f' % (\n",
        "                      epoch+1, num_epochs, train_loss))\n",
        "                log_dict['train_combined_per_epoch'].append(train_loss.item())\n",
        "\n",
        "        print('Time elapsed: %.2f min' % ((time.time() - start_time)/60))\n",
        "    \n",
        "    print('Total Training Time: %.2f min' % ((time.time() - start_time)/60))\n",
        "    if save_model is not None:\n",
        "        torch.save(model.state_dict(), save_model)\n",
        "    \n",
        "    return log_dict"
      ],
      "metadata": {
        "id": "foTjzQDEoJJp"
      },
      "id": "foTjzQDEoJJp",
      "execution_count": 4,
      "outputs": []
    },
    {
      "cell_type": "code",
      "source": [
        "# utils\n",
        "import random\n",
        "import torch\n",
        "import numpy as np\n",
        "import os\n",
        "\n",
        "\n",
        "def set_deterministic():\n",
        "    if torch.cuda.is_available():\n",
        "        torch.backends.cudnn.benchmark = False\n",
        "        torch.backends.cudnn.deterministic = True\n",
        "    torch.set_deterministic(True)\n",
        "    \n",
        "    \n",
        "def set_all_seeds(seed):\n",
        "    os.environ[\"PL_GLOBAL_SEED\"] = str(seed)\n",
        "    random.seed(seed)\n",
        "    np.random.seed(seed)\n",
        "    torch.manual_seed(seed)\n",
        "    torch.cuda.manual_seed_all(seed)"
      ],
      "metadata": {
        "id": "yPb5hvnXn8M9"
      },
      "id": "yPb5hvnXn8M9",
      "execution_count": 5,
      "outputs": []
    },
    {
      "cell_type": "markdown",
      "source": [
        "# Main-Code"
      ],
      "metadata": {
        "id": "gEI3nPTOomv0"
      },
      "id": "gEI3nPTOomv0"
    },
    {
      "cell_type": "code",
      "source": [
        "##########################\n",
        "### SETTINGS\n",
        "##########################\n",
        "\n",
        "# Device\n",
        "CUDA_DEVICE_NUM = 0\n",
        "DEVICE = torch.device(f'cuda:{CUDA_DEVICE_NUM}' if torch.cuda.is_available() else 'cpu')\n",
        "print('Device:', DEVICE)\n",
        "\n",
        "# Hyperparameters\n",
        "RANDOM_SEED = 123\n",
        "LEARNING_RATE = 0.0005\n",
        "BATCH_SIZE = 256\n",
        "NUM_EPOCHS = 50"
      ],
      "metadata": {
        "id": "u9zacR7EoU8w",
        "outputId": "6ae55c2e-c284-487c-cdf7-e4941008a263",
        "colab": {
          "base_uri": "https://localhost:8080/"
        }
      },
      "id": "u9zacR7EoU8w",
      "execution_count": 6,
      "outputs": [
        {
          "output_type": "stream",
          "name": "stdout",
          "text": [
            "Device: cuda:0\n"
          ]
        }
      ]
    },
    {
      "cell_type": "code",
      "source": [
        "set_deterministic\n",
        "set_all_seeds(RANDOM_SEED)"
      ],
      "metadata": {
        "id": "CJmneInYo75d"
      },
      "id": "CJmneInYo75d",
      "execution_count": 7,
      "outputs": []
    },
    {
      "cell_type": "code",
      "source": [
        "##########################\n",
        "### Dataset\n",
        "##########################\n",
        "\n",
        "train_loader, valid_loader, test_loader = get_dataloaders_mnist(\n",
        "    batch_size=BATCH_SIZE, \n",
        "    num_workers=2, \n",
        "    validation_fraction=0.)"
      ],
      "metadata": {
        "id": "lS5hHOhro-SS",
        "outputId": "06b41f32-4524-48cb-8a86-db80f5933e2e",
        "colab": {
          "base_uri": "https://localhost:8080/",
          "height": 430,
          "referenced_widgets": [
            "58483b3ff59d4d2ab0932c4bd53ea027",
            "2d53934383e04569b23f668b36b2d89f",
            "119fce444eb645d3a3297579bb1e5e67",
            "002b489d0c4741279295cb89c2f6533d",
            "4de59d0ee4ac41bda9508623ee4e80f2",
            "8784ce93bb5f41d3950e799b706f71d7",
            "8226be93092040759406b3cb48e7195e",
            "4cf04aeefc394871a08b502cd0ff9a4a",
            "1e4b9674a8aa405abc70fc96a36b877f",
            "5c305f498a91473bba0b4f4eb31425ec",
            "04728aa951e54260aeb7352d079b016b",
            "c42d59dbaca7457589bd9697b213c1f9",
            "1b865f940fdb4f7da22e0250fc3f9bbd",
            "a1b8c1e6135c43f2b97d70292c25094a",
            "af14a4a030e24853949dab72973bc0eb",
            "01b66dbe645f4780957ad90b92cef612",
            "b9a866e15b5f42029736acc1c2ee3762",
            "817b40c74380431a82baf54044912b01",
            "3ebcb2a043284ad7b32da352f96846ad",
            "4b2300deeba145319f0c3a21f920c07e",
            "eea90baf6c7743709aa180de840bdd90",
            "e29c4d64bdec4d01838536b29b5a410c",
            "9ffa6af84ef54456a2bbc4f6b5e05244",
            "cb5056976ad841d2a11f0cc8ac3d4863",
            "bad361d83853441b86a620594791de42",
            "7419f869846d4fd89ada8b7dcb49d4c4",
            "c5e5eb50538547319e6149759195a016",
            "31039414d97d47eeb9231a3f959eb994",
            "da8ab9e9e49245ad994adfc16e13dc4f",
            "8f7ef0c26e0648eebf165eb4435aee02",
            "3bcccb61701247c28233bd4c0a791f05",
            "9b8028df43be498ea7d4747e3f106853",
            "ed39f5f600ca4c549e6e7e6411b84a0c",
            "dfd3ed3caf594f33924c0ee691806cf5",
            "b9144d11324941a4bb82940ba3befc64",
            "020baafd175a406e890f1eeafc0f8b46",
            "b3c8ee4cd1fd4d8398a791e1f4954e85",
            "f02ec8cd22064e949bb337b2789e295b",
            "dcbffc385881491b9670c1f8be86e7ad",
            "164161d4499044de9c38f729def307c4",
            "49e539f4a75f48a09cee3f0776da8a3e",
            "974729f836af4738a0240531ff3f20da",
            "9ecc314fbb0d4fc4bc3ac6decff85ccd",
            "288c399e969149cba85ac9715b324227"
          ]
        }
      },
      "id": "lS5hHOhro-SS",
      "execution_count": 8,
      "outputs": [
        {
          "output_type": "stream",
          "name": "stdout",
          "text": [
            "Downloading http://yann.lecun.com/exdb/mnist/train-images-idx3-ubyte.gz\n",
            "Downloading http://yann.lecun.com/exdb/mnist/train-images-idx3-ubyte.gz to data/MNIST/raw/train-images-idx3-ubyte.gz\n"
          ]
        },
        {
          "output_type": "display_data",
          "data": {
            "application/vnd.jupyter.widget-view+json": {
              "model_id": "58483b3ff59d4d2ab0932c4bd53ea027",
              "version_minor": 0,
              "version_major": 2
            },
            "text/plain": [
              "  0%|          | 0/9912422 [00:00<?, ?it/s]"
            ]
          },
          "metadata": {}
        },
        {
          "output_type": "stream",
          "name": "stdout",
          "text": [
            "Extracting data/MNIST/raw/train-images-idx3-ubyte.gz to data/MNIST/raw\n",
            "\n",
            "Downloading http://yann.lecun.com/exdb/mnist/train-labels-idx1-ubyte.gz\n",
            "Downloading http://yann.lecun.com/exdb/mnist/train-labels-idx1-ubyte.gz to data/MNIST/raw/train-labels-idx1-ubyte.gz\n"
          ]
        },
        {
          "output_type": "display_data",
          "data": {
            "application/vnd.jupyter.widget-view+json": {
              "model_id": "c42d59dbaca7457589bd9697b213c1f9",
              "version_minor": 0,
              "version_major": 2
            },
            "text/plain": [
              "  0%|          | 0/28881 [00:00<?, ?it/s]"
            ]
          },
          "metadata": {}
        },
        {
          "output_type": "stream",
          "name": "stdout",
          "text": [
            "Extracting data/MNIST/raw/train-labels-idx1-ubyte.gz to data/MNIST/raw\n",
            "\n",
            "Downloading http://yann.lecun.com/exdb/mnist/t10k-images-idx3-ubyte.gz\n",
            "Downloading http://yann.lecun.com/exdb/mnist/t10k-images-idx3-ubyte.gz to data/MNIST/raw/t10k-images-idx3-ubyte.gz\n"
          ]
        },
        {
          "output_type": "display_data",
          "data": {
            "application/vnd.jupyter.widget-view+json": {
              "model_id": "9ffa6af84ef54456a2bbc4f6b5e05244",
              "version_minor": 0,
              "version_major": 2
            },
            "text/plain": [
              "  0%|          | 0/1648877 [00:00<?, ?it/s]"
            ]
          },
          "metadata": {}
        },
        {
          "output_type": "stream",
          "name": "stdout",
          "text": [
            "Extracting data/MNIST/raw/t10k-images-idx3-ubyte.gz to data/MNIST/raw\n",
            "\n",
            "Downloading http://yann.lecun.com/exdb/mnist/t10k-labels-idx1-ubyte.gz\n",
            "Downloading http://yann.lecun.com/exdb/mnist/t10k-labels-idx1-ubyte.gz to data/MNIST/raw/t10k-labels-idx1-ubyte.gz\n"
          ]
        },
        {
          "output_type": "display_data",
          "data": {
            "application/vnd.jupyter.widget-view+json": {
              "model_id": "dfd3ed3caf594f33924c0ee691806cf5",
              "version_minor": 0,
              "version_major": 2
            },
            "text/plain": [
              "  0%|          | 0/4542 [00:00<?, ?it/s]"
            ]
          },
          "metadata": {}
        },
        {
          "output_type": "stream",
          "name": "stdout",
          "text": [
            "Extracting data/MNIST/raw/t10k-labels-idx1-ubyte.gz to data/MNIST/raw\n",
            "\n"
          ]
        }
      ]
    },
    {
      "cell_type": "code",
      "source": [
        "# Checking the dataset\n",
        "print('Training Set:\\n')\n",
        "for images, labels in train_loader:  \n",
        "    print('Image batch dimensions:', images.size())\n",
        "    print('Image label dimensions:', labels.size())\n",
        "    print(labels[:10])\n",
        "    break\n",
        "    \n",
        "# Checking the dataset\n",
        "print('\\nValidation Set:')\n",
        "for images, labels in valid_loader:  \n",
        "    print('Image batch dimensions:', images.size())\n",
        "    print('Image label dimensions:', labels.size())\n",
        "    print(labels[:10])\n",
        "    break\n",
        "\n",
        "# Checking the dataset\n",
        "print('\\nTesting Set:')\n",
        "for images, labels in test_loader:  \n",
        "    print('Image batch dimensions:', images.size())\n",
        "    print('Image label dimensions:', labels.size())\n",
        "    print(labels[:10])\n",
        "    break"
      ],
      "metadata": {
        "id": "R430-0PBpBPl",
        "outputId": "b1b15c0a-8c73-4cfc-cbcc-f35079929fbb",
        "colab": {
          "base_uri": "https://localhost:8080/"
        }
      },
      "id": "R430-0PBpBPl",
      "execution_count": 9,
      "outputs": [
        {
          "output_type": "stream",
          "name": "stdout",
          "text": [
            "Training Set:\n",
            "\n",
            "Image batch dimensions: torch.Size([256, 1, 28, 28])\n",
            "Image label dimensions: torch.Size([256])\n",
            "tensor([1, 2, 1, 9, 0, 6, 9, 8, 0, 1])\n",
            "\n",
            "Validation Set:\n",
            "\n",
            "Testing Set:\n",
            "Image batch dimensions: torch.Size([256, 1, 28, 28])\n",
            "Image label dimensions: torch.Size([256])\n",
            "tensor([7, 2, 1, 0, 4, 1, 4, 9, 5, 9])\n"
          ]
        }
      ]
    },
    {
      "cell_type": "code",
      "source": [
        ""
      ],
      "metadata": {
        "id": "3aIKQPNWpFkQ"
      },
      "id": "3aIKQPNWpFkQ",
      "execution_count": null,
      "outputs": []
    },
    {
      "cell_type": "markdown",
      "source": [
        "## Model"
      ],
      "metadata": {
        "id": "3ofvtbTmpPn8"
      },
      "id": "3ofvtbTmpPn8"
    },
    {
      "cell_type": "code",
      "source": [
        "##########################\n",
        "### MODEL\n",
        "##########################\n",
        "import torch\n",
        "import torch.nn as nn\n",
        "import matplotlib.pyplot as plt\n",
        "\n",
        "class Reshape(nn.Module):\n",
        "    def __init__(self, *args):\n",
        "        super().__init__()\n",
        "        self.shape = args\n",
        "\n",
        "    def forward(self, x):\n",
        "        return x.view(self.shape)\n",
        "\n",
        "\n",
        "class Trim(nn.Module):\n",
        "    def __init__(self, *args):\n",
        "        super().__init__()\n",
        "\n",
        "    def forward(self, x):\n",
        "        return x[:, :, :28, :28]\n",
        "\n",
        "\n",
        "class VAE(nn.Module):\n",
        "    def __init__(self):\n",
        "        super().__init__()\n",
        "        \n",
        "        self.encoder = nn.Sequential(\n",
        "                nn.Conv2d(1, 32, stride=(1, 1), kernel_size=(3, 3), padding=1),\n",
        "                nn.LeakyReLU(0.01),\n",
        "                nn.Conv2d(32, 64, stride=(2, 2), kernel_size=(3, 3), padding=1),\n",
        "                nn.LeakyReLU(0.01),\n",
        "                nn.Conv2d(64, 64, stride=(2, 2), kernel_size=(3, 3), padding=1),\n",
        "                nn.LeakyReLU(0.01),\n",
        "                nn.Conv2d(64, 64, stride=(1, 1), kernel_size=(3, 3), padding=1),\n",
        "                nn.Flatten(),\n",
        "        )    \n",
        "        \n",
        "        self.z_mean = torch.nn.Linear(3136, 2)\n",
        "        self.z_log_var = torch.nn.Linear(3136, 2)\n",
        "        \n",
        "        self.decoder = nn.Sequential(\n",
        "                torch.nn.Linear(2, 3136),\n",
        "                Reshape(-1, 64, 7, 7),\n",
        "                nn.ConvTranspose2d(64, 64, stride=(1, 1), kernel_size=(3, 3), padding=1),\n",
        "                nn.LeakyReLU(0.01),\n",
        "                nn.ConvTranspose2d(64, 64, stride=(2, 2), kernel_size=(3, 3), padding=1),                \n",
        "                nn.LeakyReLU(0.01),\n",
        "                nn.ConvTranspose2d(64, 32, stride=(2, 2), kernel_size=(3, 3), padding=0),                \n",
        "                nn.LeakyReLU(0.01),\n",
        "                nn.ConvTranspose2d(32, 1, stride=(1, 1), kernel_size=(3, 3), padding=0), \n",
        "                Trim(),  # 1x29x29 -> 1x28x28\n",
        "                nn.Sigmoid()\n",
        "                )\n",
        "\n",
        "    def encoding_fn(self, x):\n",
        "        x = self.encoder(x)\n",
        "        z_mean, z_log_var = self.z_mean(x), self.z_log_var(x)\n",
        "        encoded = self.reparameterize(z_mean, z_log_var)\n",
        "        return encoded\n",
        "        \n",
        "    def reparameterize(self, z_mu, z_log_var):\n",
        "        eps = torch.randn(z_mu.size(0), z_mu.size(1)).to(z_mu.get_device())\n",
        "        z = z_mu + eps * torch.exp(z_log_var/2.) \n",
        "        return z\n",
        "        \n",
        "    def forward(self, x):\n",
        "        x = self.encoder(x)\n",
        "        z_mean, z_log_var = self.z_mean(x), self.z_log_var(x)\n",
        "        encoded = self.reparameterize(z_mean, z_log_var)\n",
        "        decoded = self.decoder(encoded)\n",
        "        return encoded, z_mean, z_log_var, decoded"
      ],
      "metadata": {
        "id": "CjVuLZNopRGR"
      },
      "id": "CjVuLZNopRGR",
      "execution_count": 11,
      "outputs": []
    },
    {
      "cell_type": "code",
      "source": [
        "set_all_seeds(RANDOM_SEED)\n",
        "\n",
        "model = VAE()\n",
        "model.to(DEVICE)\n",
        "\n",
        "optimizer = torch.optim.Adam(model.parameters(), lr=LEARNING_RATE)  "
      ],
      "metadata": {
        "id": "ICA-qdKPpUNr"
      },
      "id": "ICA-qdKPpUNr",
      "execution_count": 12,
      "outputs": []
    },
    {
      "cell_type": "code",
      "source": [
        "log_dict = train_vae_v1(num_epochs=NUM_EPOCHS, model=model, \n",
        "                        optimizer=optimizer, device=DEVICE, \n",
        "                        train_loader=train_loader,\n",
        "                        skip_epoch_stats=True,\n",
        "                        logging_interval=50)"
      ],
      "metadata": {
        "id": "tlg36IZOpgEv",
        "outputId": "137c5b4b-1029-45b5-abdb-5ecc062c226c",
        "colab": {
          "base_uri": "https://localhost:8080/"
        }
      },
      "id": "tlg36IZOpgEv",
      "execution_count": 13,
      "outputs": [
        {
          "output_type": "stream",
          "name": "stdout",
          "text": [
            "Epoch: 001/050 | Batch 0000/0234 | Loss: 183.5786\n",
            "Epoch: 001/050 | Batch 0050/0234 | Loss: 56.7598\n",
            "Epoch: 001/050 | Batch 0100/0234 | Loss: 52.0221\n",
            "Epoch: 001/050 | Batch 0150/0234 | Loss: 52.6360\n",
            "Epoch: 001/050 | Batch 0200/0234 | Loss: 48.5926\n",
            "Time elapsed: 0.90 min\n",
            "Epoch: 002/050 | Batch 0000/0234 | Loss: 47.9769\n",
            "Epoch: 002/050 | Batch 0050/0234 | Loss: 46.9013\n",
            "Epoch: 002/050 | Batch 0100/0234 | Loss: 45.2040\n",
            "Epoch: 002/050 | Batch 0150/0234 | Loss: 43.0687\n",
            "Epoch: 002/050 | Batch 0200/0234 | Loss: 44.5164\n",
            "Time elapsed: 1.73 min\n",
            "Epoch: 003/050 | Batch 0000/0234 | Loss: 43.5435\n",
            "Epoch: 003/050 | Batch 0050/0234 | Loss: 41.4627\n",
            "Epoch: 003/050 | Batch 0100/0234 | Loss: 43.2759\n",
            "Epoch: 003/050 | Batch 0150/0234 | Loss: 42.0410\n",
            "Epoch: 003/050 | Batch 0200/0234 | Loss: 43.7008\n",
            "Time elapsed: 2.49 min\n",
            "Epoch: 004/050 | Batch 0000/0234 | Loss: 43.0583\n",
            "Epoch: 004/050 | Batch 0050/0234 | Loss: 41.1505\n",
            "Epoch: 004/050 | Batch 0100/0234 | Loss: 42.0577\n",
            "Epoch: 004/050 | Batch 0150/0234 | Loss: 42.0069\n",
            "Epoch: 004/050 | Batch 0200/0234 | Loss: 39.4279\n",
            "Time elapsed: 3.25 min\n",
            "Epoch: 005/050 | Batch 0000/0234 | Loss: 42.1193\n",
            "Epoch: 005/050 | Batch 0050/0234 | Loss: 39.8321\n",
            "Epoch: 005/050 | Batch 0100/0234 | Loss: 40.9934\n",
            "Epoch: 005/050 | Batch 0150/0234 | Loss: 40.5320\n",
            "Epoch: 005/050 | Batch 0200/0234 | Loss: 39.5660\n",
            "Time elapsed: 4.01 min\n",
            "Epoch: 006/050 | Batch 0000/0234 | Loss: 42.3200\n",
            "Epoch: 006/050 | Batch 0050/0234 | Loss: 39.6176\n",
            "Epoch: 006/050 | Batch 0100/0234 | Loss: 40.4672\n",
            "Epoch: 006/050 | Batch 0150/0234 | Loss: 39.1008\n",
            "Epoch: 006/050 | Batch 0200/0234 | Loss: 39.1516\n",
            "Time elapsed: 4.78 min\n",
            "Epoch: 007/050 | Batch 0000/0234 | Loss: 40.0186\n",
            "Epoch: 007/050 | Batch 0050/0234 | Loss: 40.0289\n",
            "Epoch: 007/050 | Batch 0100/0234 | Loss: 40.2816\n",
            "Epoch: 007/050 | Batch 0150/0234 | Loss: 38.5145\n",
            "Epoch: 007/050 | Batch 0200/0234 | Loss: 39.4718\n",
            "Time elapsed: 5.54 min\n",
            "Epoch: 008/050 | Batch 0000/0234 | Loss: 39.9436\n",
            "Epoch: 008/050 | Batch 0050/0234 | Loss: 39.6279\n",
            "Epoch: 008/050 | Batch 0100/0234 | Loss: 38.8029\n",
            "Epoch: 008/050 | Batch 0150/0234 | Loss: 39.7525\n",
            "Epoch: 008/050 | Batch 0200/0234 | Loss: 38.9779\n",
            "Time elapsed: 6.30 min\n",
            "Epoch: 009/050 | Batch 0000/0234 | Loss: 39.2629\n",
            "Epoch: 009/050 | Batch 0050/0234 | Loss: 38.5399\n",
            "Epoch: 009/050 | Batch 0100/0234 | Loss: 39.9136\n",
            "Epoch: 009/050 | Batch 0150/0234 | Loss: 36.9864\n",
            "Epoch: 009/050 | Batch 0200/0234 | Loss: 38.2306\n",
            "Time elapsed: 7.06 min\n",
            "Epoch: 010/050 | Batch 0000/0234 | Loss: 39.2883\n",
            "Epoch: 010/050 | Batch 0050/0234 | Loss: 39.9574\n",
            "Epoch: 010/050 | Batch 0100/0234 | Loss: 37.3112\n",
            "Epoch: 010/050 | Batch 0150/0234 | Loss: 39.0235\n",
            "Epoch: 010/050 | Batch 0200/0234 | Loss: 37.9036\n",
            "Time elapsed: 7.81 min\n",
            "Epoch: 011/050 | Batch 0000/0234 | Loss: 38.5028\n",
            "Epoch: 011/050 | Batch 0050/0234 | Loss: 38.5736\n",
            "Epoch: 011/050 | Batch 0100/0234 | Loss: 38.4138\n",
            "Epoch: 011/050 | Batch 0150/0234 | Loss: 38.6222\n",
            "Epoch: 011/050 | Batch 0200/0234 | Loss: 38.4091\n",
            "Time elapsed: 8.57 min\n",
            "Epoch: 012/050 | Batch 0000/0234 | Loss: 38.3108\n",
            "Epoch: 012/050 | Batch 0050/0234 | Loss: 37.6827\n",
            "Epoch: 012/050 | Batch 0100/0234 | Loss: 37.3312\n",
            "Epoch: 012/050 | Batch 0150/0234 | Loss: 37.6552\n",
            "Epoch: 012/050 | Batch 0200/0234 | Loss: 38.8360\n",
            "Time elapsed: 9.32 min\n",
            "Epoch: 013/050 | Batch 0000/0234 | Loss: 36.7552\n",
            "Epoch: 013/050 | Batch 0050/0234 | Loss: 38.1604\n",
            "Epoch: 013/050 | Batch 0100/0234 | Loss: 38.7564\n",
            "Epoch: 013/050 | Batch 0150/0234 | Loss: 37.7097\n",
            "Epoch: 013/050 | Batch 0200/0234 | Loss: 38.1276\n",
            "Time elapsed: 10.07 min\n",
            "Epoch: 014/050 | Batch 0000/0234 | Loss: 39.3579\n",
            "Epoch: 014/050 | Batch 0050/0234 | Loss: 37.4975\n",
            "Epoch: 014/050 | Batch 0100/0234 | Loss: 36.7409\n",
            "Epoch: 014/050 | Batch 0150/0234 | Loss: 37.8460\n",
            "Epoch: 014/050 | Batch 0200/0234 | Loss: 38.3931\n",
            "Time elapsed: 10.83 min\n",
            "Epoch: 015/050 | Batch 0000/0234 | Loss: 38.9118\n",
            "Epoch: 015/050 | Batch 0050/0234 | Loss: 38.5958\n",
            "Epoch: 015/050 | Batch 0100/0234 | Loss: 38.6973\n",
            "Epoch: 015/050 | Batch 0150/0234 | Loss: 37.0919\n",
            "Epoch: 015/050 | Batch 0200/0234 | Loss: 38.4188\n",
            "Time elapsed: 11.57 min\n",
            "Epoch: 016/050 | Batch 0000/0234 | Loss: 36.7591\n",
            "Epoch: 016/050 | Batch 0050/0234 | Loss: 37.2070\n",
            "Epoch: 016/050 | Batch 0100/0234 | Loss: 39.4650\n",
            "Epoch: 016/050 | Batch 0150/0234 | Loss: 39.1131\n",
            "Epoch: 016/050 | Batch 0200/0234 | Loss: 38.4251\n",
            "Time elapsed: 12.32 min\n",
            "Epoch: 017/050 | Batch 0000/0234 | Loss: 36.8500\n",
            "Epoch: 017/050 | Batch 0050/0234 | Loss: 39.0418\n",
            "Epoch: 017/050 | Batch 0100/0234 | Loss: 37.1615\n",
            "Epoch: 017/050 | Batch 0150/0234 | Loss: 38.1871\n",
            "Epoch: 017/050 | Batch 0200/0234 | Loss: 37.2100\n",
            "Time elapsed: 13.07 min\n",
            "Epoch: 018/050 | Batch 0000/0234 | Loss: 36.7497\n",
            "Epoch: 018/050 | Batch 0050/0234 | Loss: 37.3651\n",
            "Epoch: 018/050 | Batch 0100/0234 | Loss: 38.5326\n",
            "Epoch: 018/050 | Batch 0150/0234 | Loss: 38.0295\n",
            "Epoch: 018/050 | Batch 0200/0234 | Loss: 38.0396\n",
            "Time elapsed: 13.82 min\n",
            "Epoch: 019/050 | Batch 0000/0234 | Loss: 38.2263\n",
            "Epoch: 019/050 | Batch 0050/0234 | Loss: 37.8318\n",
            "Epoch: 019/050 | Batch 0100/0234 | Loss: 38.1545\n",
            "Epoch: 019/050 | Batch 0150/0234 | Loss: 39.7079\n",
            "Epoch: 019/050 | Batch 0200/0234 | Loss: 36.5504\n",
            "Time elapsed: 14.57 min\n",
            "Epoch: 020/050 | Batch 0000/0234 | Loss: 36.5486\n",
            "Epoch: 020/050 | Batch 0050/0234 | Loss: 38.4034\n",
            "Epoch: 020/050 | Batch 0100/0234 | Loss: 37.5138\n",
            "Epoch: 020/050 | Batch 0150/0234 | Loss: 37.5402\n",
            "Epoch: 020/050 | Batch 0200/0234 | Loss: 38.0474\n",
            "Time elapsed: 15.33 min\n",
            "Epoch: 021/050 | Batch 0000/0234 | Loss: 36.8738\n",
            "Epoch: 021/050 | Batch 0050/0234 | Loss: 37.8820\n",
            "Epoch: 021/050 | Batch 0100/0234 | Loss: 37.0880\n",
            "Epoch: 021/050 | Batch 0150/0234 | Loss: 37.9161\n",
            "Epoch: 021/050 | Batch 0200/0234 | Loss: 37.6411\n",
            "Time elapsed: 16.08 min\n",
            "Epoch: 022/050 | Batch 0000/0234 | Loss: 38.1294\n",
            "Epoch: 022/050 | Batch 0050/0234 | Loss: 36.4622\n",
            "Epoch: 022/050 | Batch 0100/0234 | Loss: 39.0568\n",
            "Epoch: 022/050 | Batch 0150/0234 | Loss: 37.1783\n",
            "Epoch: 022/050 | Batch 0200/0234 | Loss: 38.6895\n",
            "Time elapsed: 16.82 min\n",
            "Epoch: 023/050 | Batch 0000/0234 | Loss: 36.8696\n",
            "Epoch: 023/050 | Batch 0050/0234 | Loss: 36.9699\n",
            "Epoch: 023/050 | Batch 0100/0234 | Loss: 37.4056\n",
            "Epoch: 023/050 | Batch 0150/0234 | Loss: 37.4770\n",
            "Epoch: 023/050 | Batch 0200/0234 | Loss: 37.4769\n",
            "Time elapsed: 17.57 min\n",
            "Epoch: 024/050 | Batch 0000/0234 | Loss: 37.1480\n",
            "Epoch: 024/050 | Batch 0050/0234 | Loss: 35.2010\n",
            "Epoch: 024/050 | Batch 0100/0234 | Loss: 36.7264\n",
            "Epoch: 024/050 | Batch 0150/0234 | Loss: 36.4213\n",
            "Epoch: 024/050 | Batch 0200/0234 | Loss: 37.0536\n",
            "Time elapsed: 18.31 min\n",
            "Epoch: 025/050 | Batch 0000/0234 | Loss: 38.3342\n",
            "Epoch: 025/050 | Batch 0050/0234 | Loss: 37.4076\n",
            "Epoch: 025/050 | Batch 0100/0234 | Loss: 35.5342\n",
            "Epoch: 025/050 | Batch 0150/0234 | Loss: 38.0223\n",
            "Epoch: 025/050 | Batch 0200/0234 | Loss: 37.7507\n",
            "Time elapsed: 19.05 min\n",
            "Epoch: 026/050 | Batch 0000/0234 | Loss: 37.7096\n",
            "Epoch: 026/050 | Batch 0050/0234 | Loss: 36.2563\n",
            "Epoch: 026/050 | Batch 0100/0234 | Loss: 37.6262\n",
            "Epoch: 026/050 | Batch 0150/0234 | Loss: 36.9923\n",
            "Epoch: 026/050 | Batch 0200/0234 | Loss: 37.5301\n",
            "Time elapsed: 19.79 min\n",
            "Epoch: 027/050 | Batch 0000/0234 | Loss: 37.5125\n",
            "Epoch: 027/050 | Batch 0050/0234 | Loss: 36.1510\n",
            "Epoch: 027/050 | Batch 0100/0234 | Loss: 36.5264\n",
            "Epoch: 027/050 | Batch 0150/0234 | Loss: 36.2391\n",
            "Epoch: 027/050 | Batch 0200/0234 | Loss: 37.3437\n",
            "Time elapsed: 20.53 min\n",
            "Epoch: 028/050 | Batch 0000/0234 | Loss: 36.4624\n",
            "Epoch: 028/050 | Batch 0050/0234 | Loss: 37.7262\n",
            "Epoch: 028/050 | Batch 0100/0234 | Loss: 37.1246\n",
            "Epoch: 028/050 | Batch 0150/0234 | Loss: 38.6138\n",
            "Epoch: 028/050 | Batch 0200/0234 | Loss: 37.4999\n",
            "Time elapsed: 21.27 min\n",
            "Epoch: 029/050 | Batch 0000/0234 | Loss: 36.7867\n",
            "Epoch: 029/050 | Batch 0050/0234 | Loss: 38.0359\n",
            "Epoch: 029/050 | Batch 0100/0234 | Loss: 37.7218\n",
            "Epoch: 029/050 | Batch 0150/0234 | Loss: 35.5044\n",
            "Epoch: 029/050 | Batch 0200/0234 | Loss: 36.0758\n",
            "Time elapsed: 22.02 min\n",
            "Epoch: 030/050 | Batch 0000/0234 | Loss: 37.6260\n",
            "Epoch: 030/050 | Batch 0050/0234 | Loss: 37.5692\n",
            "Epoch: 030/050 | Batch 0100/0234 | Loss: 37.2153\n",
            "Epoch: 030/050 | Batch 0150/0234 | Loss: 36.7976\n",
            "Epoch: 030/050 | Batch 0200/0234 | Loss: 37.9000\n",
            "Time elapsed: 22.77 min\n",
            "Epoch: 031/050 | Batch 0000/0234 | Loss: 37.4098\n",
            "Epoch: 031/050 | Batch 0050/0234 | Loss: 36.2000\n",
            "Epoch: 031/050 | Batch 0100/0234 | Loss: 37.6541\n",
            "Epoch: 031/050 | Batch 0150/0234 | Loss: 37.0361\n",
            "Epoch: 031/050 | Batch 0200/0234 | Loss: 35.6126\n",
            "Time elapsed: 23.52 min\n",
            "Epoch: 032/050 | Batch 0000/0234 | Loss: 37.8206\n",
            "Epoch: 032/050 | Batch 0050/0234 | Loss: 36.1538\n",
            "Epoch: 032/050 | Batch 0100/0234 | Loss: 36.9974\n",
            "Epoch: 032/050 | Batch 0150/0234 | Loss: 36.2311\n",
            "Epoch: 032/050 | Batch 0200/0234 | Loss: 38.1224\n",
            "Time elapsed: 24.26 min\n",
            "Epoch: 033/050 | Batch 0000/0234 | Loss: 36.7103\n",
            "Epoch: 033/050 | Batch 0050/0234 | Loss: 37.5077\n",
            "Epoch: 033/050 | Batch 0100/0234 | Loss: 35.4928\n",
            "Epoch: 033/050 | Batch 0150/0234 | Loss: 37.2071\n",
            "Epoch: 033/050 | Batch 0200/0234 | Loss: 36.6625\n",
            "Time elapsed: 25.01 min\n",
            "Epoch: 034/050 | Batch 0000/0234 | Loss: 36.3095\n",
            "Epoch: 034/050 | Batch 0050/0234 | Loss: 36.6189\n",
            "Epoch: 034/050 | Batch 0100/0234 | Loss: 36.8188\n",
            "Epoch: 034/050 | Batch 0150/0234 | Loss: 37.3928\n",
            "Epoch: 034/050 | Batch 0200/0234 | Loss: 36.5821\n",
            "Time elapsed: 25.75 min\n",
            "Epoch: 035/050 | Batch 0000/0234 | Loss: 38.1629\n",
            "Epoch: 035/050 | Batch 0050/0234 | Loss: 37.6046\n",
            "Epoch: 035/050 | Batch 0100/0234 | Loss: 37.1954\n",
            "Epoch: 035/050 | Batch 0150/0234 | Loss: 34.9015\n",
            "Epoch: 035/050 | Batch 0200/0234 | Loss: 35.0375\n",
            "Time elapsed: 26.50 min\n",
            "Epoch: 036/050 | Batch 0000/0234 | Loss: 36.8940\n",
            "Epoch: 036/050 | Batch 0050/0234 | Loss: 35.7691\n",
            "Epoch: 036/050 | Batch 0100/0234 | Loss: 37.3774\n",
            "Epoch: 036/050 | Batch 0150/0234 | Loss: 36.2396\n",
            "Epoch: 036/050 | Batch 0200/0234 | Loss: 36.8930\n",
            "Time elapsed: 27.25 min\n",
            "Epoch: 037/050 | Batch 0000/0234 | Loss: 36.6249\n",
            "Epoch: 037/050 | Batch 0050/0234 | Loss: 36.9001\n",
            "Epoch: 037/050 | Batch 0100/0234 | Loss: 35.7869\n",
            "Epoch: 037/050 | Batch 0150/0234 | Loss: 36.0658\n",
            "Epoch: 037/050 | Batch 0200/0234 | Loss: 35.8271\n",
            "Time elapsed: 27.99 min\n",
            "Epoch: 038/050 | Batch 0000/0234 | Loss: 36.7026\n",
            "Epoch: 038/050 | Batch 0050/0234 | Loss: 38.0150\n",
            "Epoch: 038/050 | Batch 0100/0234 | Loss: 35.8469\n",
            "Epoch: 038/050 | Batch 0150/0234 | Loss: 36.6534\n",
            "Epoch: 038/050 | Batch 0200/0234 | Loss: 39.0368\n",
            "Time elapsed: 28.74 min\n",
            "Epoch: 039/050 | Batch 0000/0234 | Loss: 36.4163\n",
            "Epoch: 039/050 | Batch 0050/0234 | Loss: 37.4178\n",
            "Epoch: 039/050 | Batch 0100/0234 | Loss: 35.6827\n",
            "Epoch: 039/050 | Batch 0150/0234 | Loss: 37.4956\n",
            "Epoch: 039/050 | Batch 0200/0234 | Loss: 36.8175\n",
            "Time elapsed: 29.48 min\n",
            "Epoch: 040/050 | Batch 0000/0234 | Loss: 36.2499\n",
            "Epoch: 040/050 | Batch 0050/0234 | Loss: 38.2606\n",
            "Epoch: 040/050 | Batch 0100/0234 | Loss: 36.6848\n",
            "Epoch: 040/050 | Batch 0150/0234 | Loss: 36.3952\n",
            "Epoch: 040/050 | Batch 0200/0234 | Loss: 35.8970\n",
            "Time elapsed: 30.22 min\n",
            "Epoch: 041/050 | Batch 0000/0234 | Loss: 35.2072\n",
            "Epoch: 041/050 | Batch 0050/0234 | Loss: 37.5817\n",
            "Epoch: 041/050 | Batch 0100/0234 | Loss: 36.5172\n",
            "Epoch: 041/050 | Batch 0150/0234 | Loss: 37.5670\n",
            "Epoch: 041/050 | Batch 0200/0234 | Loss: 37.1544\n",
            "Time elapsed: 30.96 min\n",
            "Epoch: 042/050 | Batch 0000/0234 | Loss: 34.8050\n",
            "Epoch: 042/050 | Batch 0050/0234 | Loss: 36.5331\n",
            "Epoch: 042/050 | Batch 0100/0234 | Loss: 37.2453\n",
            "Epoch: 042/050 | Batch 0150/0234 | Loss: 36.2931\n",
            "Epoch: 042/050 | Batch 0200/0234 | Loss: 36.9912\n",
            "Time elapsed: 31.69 min\n",
            "Epoch: 043/050 | Batch 0000/0234 | Loss: 35.6796\n",
            "Epoch: 043/050 | Batch 0050/0234 | Loss: 37.5684\n",
            "Epoch: 043/050 | Batch 0100/0234 | Loss: 37.3827\n",
            "Epoch: 043/050 | Batch 0150/0234 | Loss: 36.4332\n",
            "Epoch: 043/050 | Batch 0200/0234 | Loss: 36.2643\n",
            "Time elapsed: 32.43 min\n",
            "Epoch: 044/050 | Batch 0000/0234 | Loss: 38.1973\n",
            "Epoch: 044/050 | Batch 0050/0234 | Loss: 36.5795\n",
            "Epoch: 044/050 | Batch 0100/0234 | Loss: 36.2885\n",
            "Epoch: 044/050 | Batch 0150/0234 | Loss: 36.4499\n",
            "Epoch: 044/050 | Batch 0200/0234 | Loss: 36.7313\n",
            "Time elapsed: 33.17 min\n",
            "Epoch: 045/050 | Batch 0000/0234 | Loss: 36.3277\n",
            "Epoch: 045/050 | Batch 0050/0234 | Loss: 35.5760\n",
            "Epoch: 045/050 | Batch 0100/0234 | Loss: 35.9902\n",
            "Epoch: 045/050 | Batch 0150/0234 | Loss: 36.0627\n",
            "Epoch: 045/050 | Batch 0200/0234 | Loss: 36.3312\n",
            "Time elapsed: 33.91 min\n",
            "Epoch: 046/050 | Batch 0000/0234 | Loss: 36.0253\n",
            "Epoch: 046/050 | Batch 0050/0234 | Loss: 36.4697\n",
            "Epoch: 046/050 | Batch 0100/0234 | Loss: 37.8364\n",
            "Epoch: 046/050 | Batch 0150/0234 | Loss: 36.9849\n",
            "Epoch: 046/050 | Batch 0200/0234 | Loss: 35.0686\n",
            "Time elapsed: 34.65 min\n",
            "Epoch: 047/050 | Batch 0000/0234 | Loss: 35.4815\n",
            "Epoch: 047/050 | Batch 0050/0234 | Loss: 37.9586\n",
            "Epoch: 047/050 | Batch 0100/0234 | Loss: 35.6112\n",
            "Epoch: 047/050 | Batch 0150/0234 | Loss: 35.8103\n",
            "Epoch: 047/050 | Batch 0200/0234 | Loss: 37.2493\n",
            "Time elapsed: 35.39 min\n",
            "Epoch: 048/050 | Batch 0000/0234 | Loss: 36.5110\n",
            "Epoch: 048/050 | Batch 0050/0234 | Loss: 36.1967\n",
            "Epoch: 048/050 | Batch 0100/0234 | Loss: 37.3385\n",
            "Epoch: 048/050 | Batch 0150/0234 | Loss: 36.3848\n",
            "Epoch: 048/050 | Batch 0200/0234 | Loss: 37.0956\n",
            "Time elapsed: 36.14 min\n",
            "Epoch: 049/050 | Batch 0000/0234 | Loss: 37.0976\n",
            "Epoch: 049/050 | Batch 0050/0234 | Loss: 36.2586\n",
            "Epoch: 049/050 | Batch 0100/0234 | Loss: 36.0522\n",
            "Epoch: 049/050 | Batch 0150/0234 | Loss: 37.4572\n",
            "Epoch: 049/050 | Batch 0200/0234 | Loss: 37.6512\n",
            "Time elapsed: 36.88 min\n",
            "Epoch: 050/050 | Batch 0000/0234 | Loss: 36.1704\n",
            "Epoch: 050/050 | Batch 0050/0234 | Loss: 37.0982\n",
            "Epoch: 050/050 | Batch 0100/0234 | Loss: 36.2145\n",
            "Epoch: 050/050 | Batch 0150/0234 | Loss: 37.9057\n",
            "Epoch: 050/050 | Batch 0200/0234 | Loss: 37.5381\n",
            "Time elapsed: 37.62 min\n",
            "Total Training Time: 37.62 min\n"
          ]
        }
      ]
    },
    {
      "cell_type": "code",
      "source": [
        "plot_training_loss(log_dict['train_reconstruction_loss_per_batch'], NUM_EPOCHS, custom_label=\" (reconstruction)\")\n",
        "plot_training_loss(log_dict['train_kl_loss_per_batch'], NUM_EPOCHS, custom_label=\" (KL)\")\n",
        "plot_training_loss(log_dict['train_combined_loss_per_batch'], NUM_EPOCHS, custom_label=\" (combined)\")\n",
        "plt.show()"
      ],
      "metadata": {
        "id": "lBWOCN_TpnaW",
        "outputId": "b1ee9b21-c380-4a2e-81b5-d0bb060e8605",
        "colab": {
          "base_uri": "https://localhost:8080/",
          "height": 878
        }
      },
      "id": "lBWOCN_TpnaW",
      "execution_count": 19,
      "outputs": [
        {
          "output_type": "display_data",
          "data": {
            "image/png": "[encoded data removed]",
            "text/plain": [
              "<Figure size 432x288 with 2 Axes>"
            ]
          },
          "metadata": {
            "needs_background": "light"
          }
        },
        {
          "output_type": "display_data",
          "data": {
            "image/png": "[encoded data removed]",
            "text/plain": [
              "<Figure size 432x288 with 2 Axes>"
            ]
          },
          "metadata": {
            "needs_background": "light"
          }
        },
        {
          "output_type": "display_data",
          "data": {
            "image/png": "[encoded data removed]",
            "text/plain": [
              "<Figure size 432x288 with 2 Axes>"
            ]
          },
          "metadata": {
            "needs_background": "light"
          }
        }
      ]
    },
    {
      "cell_type": "code",
      "source": [
        "plot_generated_images(data_loader=train_loader, model=model, device=DEVICE, modeltype='VAE')           "
      ],
      "metadata": {
        "id": "bJlF63-7pr7f",
        "outputId": "6ee3c1be-b5d0-4b82-c954-5b5c655669cd",
        "colab": {
          "base_uri": "https://localhost:8080/",
          "height": 160
        }
      },
      "id": "bJlF63-7pr7f",
      "execution_count": 20,
      "outputs": [
        {
          "output_type": "display_data",
          "data": {
            "image/png": "[encoded data removed]",
            "text/plain": [
              "<Figure size 1440x180 with 30 Axes>"
            ]
          },
          "metadata": {
            "needs_background": "light"
          }
        }
      ]
    },
    {
      "cell_type": "code",
      "source": [
        "plot_latent_space_with_labels(\n",
        "    num_classes=10,\n",
        "    data_loader=train_loader,\n",
        "    encoding_fn=model.encoding_fn, \n",
        "    device=DEVICE)\n",
        "\n",
        "plt.legend()\n",
        "plt.show()"
      ],
      "metadata": {
        "id": "76qHa5ULpxbr",
        "outputId": "fe54b22a-ae8b-4bb9-ca7e-36b45c8b541d",
        "colab": {
          "base_uri": "https://localhost:8080/",
          "height": 286
        }
      },
      "id": "76qHa5ULpxbr",
      "execution_count": 22,
      "outputs": [
        {
          "output_type": "display_data",
          "data": {
            "image/png": "[encoded data removed]",
            "text/plain": [
              "<Figure size 432x288 with 1 Axes>"
            ]
          },
          "metadata": {
            "needs_background": "light"
          }
        }
      ]
    },
    {
      "cell_type": "code",
      "source": [
        "for i in range(10):\n",
        "    plot_images_sampled_from_vae(model=model, device=DEVICE, latent_size=2)\n",
        "    plt.show()"
      ],
      "metadata": {
        "id": "fmlRlntpp6Em",
        "outputId": "7dff8943-7e55-4c12-9538-8fb4640225c9",
        "colab": {
          "base_uri": "https://localhost:8080/",
          "height": 846
        }
      },
      "id": "fmlRlntpp6Em",
      "execution_count": 23,
      "outputs": [
        {
          "output_type": "display_data",
          "data": {
            "image/png": "[encoded data removed]",
            "text/plain": [
              "<Figure size 720x180 with 10 Axes>"
            ]
          },
          "metadata": {
            "needs_background": "light"
          }
        },
        {
          "output_type": "display_data",
          "data": {
            "image/png": "[encoded data removed]",
            "text/plain": [
              "<Figure size 720x180 with 10 Axes>"
            ]
          },
          "metadata": {
            "needs_background": "light"
          }
        },
        {
          "output_type": "display_data",
          "data": {
            "image/png": "[encoded data removed]",
            "text/plain": [
              "<Figure size 720x180 with 10 Axes>"
            ]
          },
          "metadata": {
            "needs_background": "light"
          }
        },
        {
          "output_type": "display_data",
          "data": {
            "image/png": "[encoded data removed]",
            "text/plain": [
              "<Figure size 720x180 with 10 Axes>"
            ]
          },
          "metadata": {
            "needs_background": "light"
          }
        },
        {
          "output_type": "display_data",
          "data": {
            "image/png": "[encoded data removed]",
            "text/plain": [
              "<Figure size 720x180 with 10 Axes>"
            ]
          },
          "metadata": {
            "needs_background": "light"
          }
        },
        {
          "output_type": "display_data",
          "data": {
            "image/png": "[encoded data removed]",
            "text/plain": [
              "<Figure size 720x180 with 10 Axes>"
            ]
          },
          "metadata": {
            "needs_background": "light"
          }
        },
        {
          "output_type": "display_data",
          "data": {
            "image/png": "[encoded data removed]",
            "text/plain": [
              "<Figure size 720x180 with 10 Axes>"
            ]
          },
          "metadata": {
            "needs_background": "light"
          }
        },
        {
          "output_type": "display_data",
          "data": {
            "image/png": "[encoded data removed]",
            "text/plain": [
              "<Figure size 720x180 with 10 Axes>"
            ]
          },
          "metadata": {
            "needs_background": "light"
          }
        },
        {
          "output_type": "display_data",
          "data": {
            "image/png": "[encoded data removed]",
            "text/plain": [
              "<Figure size 720x180 with 10 Axes>"
            ]
          },
          "metadata": {
            "needs_background": "light"
          }
        },
        {
          "output_type": "display_data",
          "data": {
            "image/png": "[encoded data removed]",
            "text/plain": [
              "<Figure size 720x180 with 10 Axes>"
            ]
          },
          "metadata": {
            "needs_background": "light"
          }
        }
      ]
    },
    {
      "cell_type": "code",
      "source": [
        ""
      ],
      "metadata": {
        "id": "K3gL9DUjy2BC"
      },
      "id": "K3gL9DUjy2BC",
      "execution_count": null,
      "outputs": []
    }
  ],
  "metadata": {
    "kernelspec": {
      "display_name": "Python 3 (ipykernel)",
      "language": "python",
      "name": "python3"
    },
    "language_info": {
      "codemirror_mode": {
        "name": "ipython",
        "version": 3
      },
      "file_extension": ".py",
      "mimetype": "text/x-python",
      "name": "python",
      "nbconvert_exporter": "python",
      "pygments_lexer": "ipython3",
      "version": "3.9.9"
    },
    "colab": {
      "name": "vae.ipynb",
      "provenance": [],
      "toc_visible": true,
      "include_colab_link": true
    },
    "accelerator": "GPU",
    "widgets": {
      "application/vnd.jupyter.widget-state+json": {
        "58483b3ff59d4d2ab0932c4bd53ea027": {
          "model_module": "@jupyter-widgets/controls",
          "model_name": "HBoxModel",
          "model_module_version": "1.5.0",
          "state": {
            "_view_name": "HBoxView",
            "_dom_classes": [],
            "_model_name": "HBoxModel",
            "_view_module": "@jupyter-widgets/controls",
            "_model_module_version": "1.5.0",
            "_view_count": null,
            "_view_module_version": "1.5.0",
            "box_style": "",
            "layout": "IPY_MODEL_2d53934383e04569b23f668b36b2d89f",
            "_model_module": "@jupyter-widgets/controls",
            "children": [
              "IPY_MODEL_119fce444eb645d3a3297579bb1e5e67",
              "IPY_MODEL_002b489d0c4741279295cb89c2f6533d",
              "IPY_MODEL_4de59d0ee4ac41bda9508623ee4e80f2"
            ]
          }
        },
        "2d53934383e04569b23f668b36b2d89f": {
          "model_module": "@jupyter-widgets/base",
          "model_name": "LayoutModel",
          "model_module_version": "1.2.0",
          "state": {
            "_view_name": "LayoutView",
            "grid_template_rows": null,
            "right": null,
            "justify_content": null,
            "_view_module": "@jupyter-widgets/base",
            "overflow": null,
            "_model_module_version": "1.2.0",
            "_view_count": null,
            "flex_flow": null,
            "width": null,
            "min_width": null,
            "border": null,
            "align_items": null,
            "bottom": null,
            "_model_module": "@jupyter-widgets/base",
            "top": null,
            "grid_column": null,
            "overflow_y": null,
            "overflow_x": null,
            "grid_auto_flow": null,
            "grid_area": null,
            "grid_template_columns": null,
            "flex": null,
            "_model_name": "LayoutModel",
            "justify_items": null,
            "grid_row": null,
            "max_height": null,
            "align_content": null,
            "visibility": null,
            "align_self": null,
            "height": null,
            "min_height": null,
            "padding": null,
            "grid_auto_rows": null,
            "grid_gap": null,
            "max_width": null,
            "order": null,
            "_view_module_version": "1.2.0",
            "grid_template_areas": null,
            "object_position": null,
            "object_fit": null,
            "grid_auto_columns": null,
            "margin": null,
            "display": null,
            "left": null
          }
        },
        "119fce444eb645d3a3297579bb1e5e67": {
          "model_module": "@jupyter-widgets/controls",
          "model_name": "HTMLModel",
          "model_module_version": "1.5.0",
          "state": {
            "_view_name": "HTMLView",
            "style": "IPY_MODEL_8784ce93bb5f41d3950e799b706f71d7",
            "_dom_classes": [],
            "description": "",
            "_model_name": "HTMLModel",
            "placeholder": "​",
            "_view_module": "@jupyter-widgets/controls",
            "_model_module_version": "1.5.0",
            "value": "",
            "_view_count": null,
            "_view_module_version": "1.5.0",
            "description_tooltip": null,
            "_model_module": "@jupyter-widgets/controls",
            "layout": "IPY_MODEL_8226be93092040759406b3cb48e7195e"
          }
        },
        "002b489d0c4741279295cb89c2f6533d": {
          "model_module": "@jupyter-widgets/controls",
          "model_name": "FloatProgressModel",
          "model_module_version": "1.5.0",
          "state": {
            "_view_name": "ProgressView",
            "style": "IPY_MODEL_4cf04aeefc394871a08b502cd0ff9a4a",
            "_dom_classes": [],
            "description": "",
            "_model_name": "FloatProgressModel",
            "bar_style": "success",
            "max": 9912422,
            "_view_module": "@jupyter-widgets/controls",
            "_model_module_version": "1.5.0",
            "value": 9912422,
            "_view_count": null,
            "_view_module_version": "1.5.0",
            "orientation": "horizontal",
            "min": 0,
            "description_tooltip": null,
            "_model_module": "@jupyter-widgets/controls",
            "layout": "IPY_MODEL_1e4b9674a8aa405abc70fc96a36b877f"
          }
        },
        "4de59d0ee4ac41bda9508623ee4e80f2": {
          "model_module": "@jupyter-widgets/controls",
          "model_name": "HTMLModel",
          "model_module_version": "1.5.0",
          "state": {
            "_view_name": "HTMLView",
            "style": "IPY_MODEL_5c305f498a91473bba0b4f4eb31425ec",
            "_dom_classes": [],
            "description": "",
            "_model_name": "HTMLModel",
            "placeholder": "​",
            "_view_module": "@jupyter-widgets/controls",
            "_model_module_version": "1.5.0",
            "value": " 9913344/? [00:00&lt;00:00, 18314105.48it/s]",
            "_view_count": null,
            "_view_module_version": "1.5.0",
            "description_tooltip": null,
            "_model_module": "@jupyter-widgets/controls",
            "layout": "IPY_MODEL_04728aa951e54260aeb7352d079b016b"
          }
        },
        "8784ce93bb5f41d3950e799b706f71d7": {
          "model_module": "@jupyter-widgets/controls",
          "model_name": "DescriptionStyleModel",
          "model_module_version": "1.5.0",
          "state": {
            "_view_name": "StyleView",
            "_model_name": "DescriptionStyleModel",
            "description_width": "",
            "_view_module": "@jupyter-widgets/base",
            "_model_module_version": "1.5.0",
            "_view_count": null,
            "_view_module_version": "1.2.0",
            "_model_module": "@jupyter-widgets/controls"
          }
        },
        "8226be93092040759406b3cb48e7195e": {
          "model_module": "@jupyter-widgets/base",
          "model_name": "LayoutModel",
          "model_module_version": "1.2.0",
          "state": {
            "_view_name": "LayoutView",
            "grid_template_rows": null,
            "right": null,
            "justify_content": null,
            "_view_module": "@jupyter-widgets/base",
            "overflow": null,
            "_model_module_version": "1.2.0",
            "_view_count": null,
            "flex_flow": null,
            "width": null,
            "min_width": null,
            "border": null,
            "align_items": null,
            "bottom": null,
            "_model_module": "@jupyter-widgets/base",
            "top": null,
            "grid_column": null,
            "overflow_y": null,
            "overflow_x": null,
            "grid_auto_flow": null,
            "grid_area": null,
            "grid_template_columns": null,
            "flex": null,
            "_model_name": "LayoutModel",
            "justify_items": null,
            "grid_row": null,
            "max_height": null,
            "align_content": null,
            "visibility": null,
            "align_self": null,
            "height": null,
            "min_height": null,
            "padding": null,
            "grid_auto_rows": null,
            "grid_gap": null,
            "max_width": null,
            "order": null,
            "_view_module_version": "1.2.0",
            "grid_template_areas": null,
            "object_position": null,
            "object_fit": null,
            "grid_auto_columns": null,
            "margin": null,
            "display": null,
            "left": null
          }
        },
        "4cf04aeefc394871a08b502cd0ff9a4a": {
          "model_module": "@jupyter-widgets/controls",
          "model_name": "ProgressStyleModel",
          "model_module_version": "1.5.0",
          "state": {
            "_view_name": "StyleView",
            "_model_name": "ProgressStyleModel",
            "description_width": "",
            "_view_module": "@jupyter-widgets/base",
            "_model_module_version": "1.5.0",
            "_view_count": null,
            "_view_module_version": "1.2.0",
            "bar_color": null,
            "_model_module": "@jupyter-widgets/controls"
          }
        },
        "1e4b9674a8aa405abc70fc96a36b877f": {
          "model_module": "@jupyter-widgets/base",
          "model_name": "LayoutModel",
          "model_module_version": "1.2.0",
          "state": {
            "_view_name": "LayoutView",
            "grid_template_rows": null,
            "right": null,
            "justify_content": null,
            "_view_module": "@jupyter-widgets/base",
            "overflow": null,
            "_model_module_version": "1.2.0",
            "_view_count": null,
            "flex_flow": null,
            "width": null,
            "min_width": null,
            "border": null,
            "align_items": null,
            "bottom": null,
            "_model_module": "@jupyter-widgets/base",
            "top": null,
            "grid_column": null,
            "overflow_y": null,
            "overflow_x": null,
            "grid_auto_flow": null,
            "grid_area": null,
            "grid_template_columns": null,
            "flex": null,
            "_model_name": "LayoutModel",
            "justify_items": null,
            "grid_row": null,
            "max_height": null,
            "align_content": null,
            "visibility": null,
            "align_self": null,
            "height": null,
            "min_height": null,
            "padding": null,
            "grid_auto_rows": null,
            "grid_gap": null,
            "max_width": null,
            "order": null,
            "_view_module_version": "1.2.0",
            "grid_template_areas": null,
            "object_position": null,
            "object_fit": null,
            "grid_auto_columns": null,
            "margin": null,
            "display": null,
            "left": null
          }
        },
        "5c305f498a91473bba0b4f4eb31425ec": {
          "model_module": "@jupyter-widgets/controls",
          "model_name": "DescriptionStyleModel",
          "model_module_version": "1.5.0",
          "state": {
            "_view_name": "StyleView",
            "_model_name": "DescriptionStyleModel",
            "description_width": "",
            "_view_module": "@jupyter-widgets/base",
            "_model_module_version": "1.5.0",
            "_view_count": null,
            "_view_module_version": "1.2.0",
            "_model_module": "@jupyter-widgets/controls"
          }
        },
        "04728aa951e54260aeb7352d079b016b": {
          "model_module": "@jupyter-widgets/base",
          "model_name": "LayoutModel",
          "model_module_version": "1.2.0",
          "state": {
            "_view_name": "LayoutView",
            "grid_template_rows": null,
            "right": null,
            "justify_content": null,
            "_view_module": "@jupyter-widgets/base",
            "overflow": null,
            "_model_module_version": "1.2.0",
            "_view_count": null,
            "flex_flow": null,
            "width": null,
            "min_width": null,
            "border": null,
            "align_items": null,
            "bottom": null,
            "_model_module": "@jupyter-widgets/base",
            "top": null,
            "grid_column": null,
            "overflow_y": null,
            "overflow_x": null,
            "grid_auto_flow": null,
            "grid_area": null,
            "grid_template_columns": null,
            "flex": null,
            "_model_name": "LayoutModel",
            "justify_items": null,
            "grid_row": null,
            "max_height": null,
            "align_content": null,
            "visibility": null,
            "align_self": null,
            "height": null,
            "min_height": null,
            "padding": null,
            "grid_auto_rows": null,
            "grid_gap": null,
            "max_width": null,
            "order": null,
            "_view_module_version": "1.2.0",
            "grid_template_areas": null,
            "object_position": null,
            "object_fit": null,
            "grid_auto_columns": null,
            "margin": null,
            "display": null,
            "left": null
          }
        },
        "c42d59dbaca7457589bd9697b213c1f9": {
          "model_module": "@jupyter-widgets/controls",
          "model_name": "HBoxModel",
          "model_module_version": "1.5.0",
          "state": {
            "_view_name": "HBoxView",
            "_dom_classes": [],
            "_model_name": "HBoxModel",
            "_view_module": "@jupyter-widgets/controls",
            "_model_module_version": "1.5.0",
            "_view_count": null,
            "_view_module_version": "1.5.0",
            "box_style": "",
            "layout": "IPY_MODEL_1b865f940fdb4f7da22e0250fc3f9bbd",
            "_model_module": "@jupyter-widgets/controls",
            "children": [
              "IPY_MODEL_a1b8c1e6135c43f2b97d70292c25094a",
              "IPY_MODEL_af14a4a030e24853949dab72973bc0eb",
              "IPY_MODEL_01b66dbe645f4780957ad90b92cef612"
            ]
          }
        },
        "1b865f940fdb4f7da22e0250fc3f9bbd": {
          "model_module": "@jupyter-widgets/base",
          "model_name": "LayoutModel",
          "model_module_version": "1.2.0",
          "state": {
            "_view_name": "LayoutView",
            "grid_template_rows": null,
            "right": null,
            "justify_content": null,
            "_view_module": "@jupyter-widgets/base",
            "overflow": null,
            "_model_module_version": "1.2.0",
            "_view_count": null,
            "flex_flow": null,
            "width": null,
            "min_width": null,
            "border": null,
            "align_items": null,
            "bottom": null,
            "_model_module": "@jupyter-widgets/base",
            "top": null,
            "grid_column": null,
            "overflow_y": null,
            "overflow_x": null,
            "grid_auto_flow": null,
            "grid_area": null,
            "grid_template_columns": null,
            "flex": null,
            "_model_name": "LayoutModel",
            "justify_items": null,
            "grid_row": null,
            "max_height": null,
            "align_content": null,
            "visibility": null,
            "align_self": null,
            "height": null,
            "min_height": null,
            "padding": null,
            "grid_auto_rows": null,
            "grid_gap": null,
            "max_width": null,
            "order": null,
            "_view_module_version": "1.2.0",
            "grid_template_areas": null,
            "object_position": null,
            "object_fit": null,
            "grid_auto_columns": null,
            "margin": null,
            "display": null,
            "left": null
          }
        },
        "a1b8c1e6135c43f2b97d70292c25094a": {
          "model_module": "@jupyter-widgets/controls",
          "model_name": "HTMLModel",
          "model_module_version": "1.5.0",
          "state": {
            "_view_name": "HTMLView",
            "style": "IPY_MODEL_b9a866e15b5f42029736acc1c2ee3762",
            "_dom_classes": [],
            "description": "",
            "_model_name": "HTMLModel",
            "placeholder": "​",
            "_view_module": "@jupyter-widgets/controls",
            "_model_module_version": "1.5.0",
            "value": "",
            "_view_count": null,
            "_view_module_version": "1.5.0",
            "description_tooltip": null,
            "_model_module": "@jupyter-widgets/controls",
            "layout": "IPY_MODEL_817b40c74380431a82baf54044912b01"
          }
        },
        "af14a4a030e24853949dab72973bc0eb": {
          "model_module": "@jupyter-widgets/controls",
          "model_name": "FloatProgressModel",
          "model_module_version": "1.5.0",
          "state": {
            "_view_name": "ProgressView",
            "style": "IPY_MODEL_3ebcb2a043284ad7b32da352f96846ad",
            "_dom_classes": [],
            "description": "",
            "_model_name": "FloatProgressModel",
            "bar_style": "success",
            "max": 28881,
            "_view_module": "@jupyter-widgets/controls",
            "_model_module_version": "1.5.0",
            "value": 28881,
            "_view_count": null,
            "_view_module_version": "1.5.0",
            "orientation": "horizontal",
            "min": 0,
            "description_tooltip": null,
            "_model_module": "@jupyter-widgets/controls",
            "layout": "IPY_MODEL_4b2300deeba145319f0c3a21f920c07e"
          }
        },
        "01b66dbe645f4780957ad90b92cef612": {
          "model_module": "@jupyter-widgets/controls",
          "model_name": "HTMLModel",
          "model_module_version": "1.5.0",
          "state": {
            "_view_name": "HTMLView",
            "style": "IPY_MODEL_eea90baf6c7743709aa180de840bdd90",
            "_dom_classes": [],
            "description": "",
            "_model_name": "HTMLModel",
            "placeholder": "​",
            "_view_module": "@jupyter-widgets/controls",
            "_model_module_version": "1.5.0",
            "value": " 29696/? [00:00&lt;00:00, 504198.01it/s]",
            "_view_count": null,
            "_view_module_version": "1.5.0",
            "description_tooltip": null,
            "_model_module": "@jupyter-widgets/controls",
            "layout": "IPY_MODEL_e29c4d64bdec4d01838536b29b5a410c"
          }
        },
        "b9a866e15b5f42029736acc1c2ee3762": {
          "model_module": "@jupyter-widgets/controls",
          "model_name": "DescriptionStyleModel",
          "model_module_version": "1.5.0",
          "state": {
            "_view_name": "StyleView",
            "_model_name": "DescriptionStyleModel",
            "description_width": "",
            "_view_module": "@jupyter-widgets/base",
            "_model_module_version": "1.5.0",
            "_view_count": null,
            "_view_module_version": "1.2.0",
            "_model_module": "@jupyter-widgets/controls"
          }
        },
        "817b40c74380431a82baf54044912b01": {
          "model_module": "@jupyter-widgets/base",
          "model_name": "LayoutModel",
          "model_module_version": "1.2.0",
          "state": {
            "_view_name": "LayoutView",
            "grid_template_rows": null,
            "right": null,
            "justify_content": null,
            "_view_module": "@jupyter-widgets/base",
            "overflow": null,
            "_model_module_version": "1.2.0",
            "_view_count": null,
            "flex_flow": null,
            "width": null,
            "min_width": null,
            "border": null,
            "align_items": null,
            "bottom": null,
            "_model_module": "@jupyter-widgets/base",
            "top": null,
            "grid_column": null,
            "overflow_y": null,
            "overflow_x": null,
            "grid_auto_flow": null,
            "grid_area": null,
            "grid_template_columns": null,
            "flex": null,
            "_model_name": "LayoutModel",
            "justify_items": null,
            "grid_row": null,
            "max_height": null,
            "align_content": null,
            "visibility": null,
            "align_self": null,
            "height": null,
            "min_height": null,
            "padding": null,
            "grid_auto_rows": null,
            "grid_gap": null,
            "max_width": null,
            "order": null,
            "_view_module_version": "1.2.0",
            "grid_template_areas": null,
            "object_position": null,
            "object_fit": null,
            "grid_auto_columns": null,
            "margin": null,
            "display": null,
            "left": null
          }
        },
        "3ebcb2a043284ad7b32da352f96846ad": {
          "model_module": "@jupyter-widgets/controls",
          "model_name": "ProgressStyleModel",
          "model_module_version": "1.5.0",
          "state": {
            "_view_name": "StyleView",
            "_model_name": "ProgressStyleModel",
            "description_width": "",
            "_view_module": "@jupyter-widgets/base",
            "_model_module_version": "1.5.0",
            "_view_count": null,
            "_view_module_version": "1.2.0",
            "bar_color": null,
            "_model_module": "@jupyter-widgets/controls"
          }
        },
        "4b2300deeba145319f0c3a21f920c07e": {
          "model_module": "@jupyter-widgets/base",
          "model_name": "LayoutModel",
          "model_module_version": "1.2.0",
          "state": {
            "_view_name": "LayoutView",
            "grid_template_rows": null,
            "right": null,
            "justify_content": null,
            "_view_module": "@jupyter-widgets/base",
            "overflow": null,
            "_model_module_version": "1.2.0",
            "_view_count": null,
            "flex_flow": null,
            "width": null,
            "min_width": null,
            "border": null,
            "align_items": null,
            "bottom": null,
            "_model_module": "@jupyter-widgets/base",
            "top": null,
            "grid_column": null,
            "overflow_y": null,
            "overflow_x": null,
            "grid_auto_flow": null,
            "grid_area": null,
            "grid_template_columns": null,
            "flex": null,
            "_model_name": "LayoutModel",
            "justify_items": null,
            "grid_row": null,
            "max_height": null,
            "align_content": null,
            "visibility": null,
            "align_self": null,
            "height": null,
            "min_height": null,
            "padding": null,
            "grid_auto_rows": null,
            "grid_gap": null,
            "max_width": null,
            "order": null,
            "_view_module_version": "1.2.0",
            "grid_template_areas": null,
            "object_position": null,
            "object_fit": null,
            "grid_auto_columns": null,
            "margin": null,
            "display": null,
            "left": null
          }
        },
        "eea90baf6c7743709aa180de840bdd90": {
          "model_module": "@jupyter-widgets/controls",
          "model_name": "DescriptionStyleModel",
          "model_module_version": "1.5.0",
          "state": {
            "_view_name": "StyleView",
            "_model_name": "DescriptionStyleModel",
            "description_width": "",
            "_view_module": "@jupyter-widgets/base",
            "_model_module_version": "1.5.0",
            "_view_count": null,
            "_view_module_version": "1.2.0",
            "_model_module": "@jupyter-widgets/controls"
          }
        },
        "e29c4d64bdec4d01838536b29b5a410c": {
          "model_module": "@jupyter-widgets/base",
          "model_name": "LayoutModel",
          "model_module_version": "1.2.0",
          "state": {
            "_view_name": "LayoutView",
            "grid_template_rows": null,
            "right": null,
            "justify_content": null,
            "_view_module": "@jupyter-widgets/base",
            "overflow": null,
            "_model_module_version": "1.2.0",
            "_view_count": null,
            "flex_flow": null,
            "width": null,
            "min_width": null,
            "border": null,
            "align_items": null,
            "bottom": null,
            "_model_module": "@jupyter-widgets/base",
            "top": null,
            "grid_column": null,
            "overflow_y": null,
            "overflow_x": null,
            "grid_auto_flow": null,
            "grid_area": null,
            "grid_template_columns": null,
            "flex": null,
            "_model_name": "LayoutModel",
            "justify_items": null,
            "grid_row": null,
            "max_height": null,
            "align_content": null,
            "visibility": null,
            "align_self": null,
            "height": null,
            "min_height": null,
            "padding": null,
            "grid_auto_rows": null,
            "grid_gap": null,
            "max_width": null,
            "order": null,
            "_view_module_version": "1.2.0",
            "grid_template_areas": null,
            "object_position": null,
            "object_fit": null,
            "grid_auto_columns": null,
            "margin": null,
            "display": null,
            "left": null
          }
        },
        "9ffa6af84ef54456a2bbc4f6b5e05244": {
          "model_module": "@jupyter-widgets/controls",
          "model_name": "HBoxModel",
          "model_module_version": "1.5.0",
          "state": {
            "_view_name": "HBoxView",
            "_dom_classes": [],
            "_model_name": "HBoxModel",
            "_view_module": "@jupyter-widgets/controls",
            "_model_module_version": "1.5.0",
            "_view_count": null,
            "_view_module_version": "1.5.0",
            "box_style": "",
            "layout": "IPY_MODEL_cb5056976ad841d2a11f0cc8ac3d4863",
            "_model_module": "@jupyter-widgets/controls",
            "children": [
              "IPY_MODEL_bad361d83853441b86a620594791de42",
              "IPY_MODEL_7419f869846d4fd89ada8b7dcb49d4c4",
              "IPY_MODEL_c5e5eb50538547319e6149759195a016"
            ]
          }
        },
        "cb5056976ad841d2a11f0cc8ac3d4863": {
          "model_module": "@jupyter-widgets/base",
          "model_name": "LayoutModel",
          "model_module_version": "1.2.0",
          "state": {
            "_view_name": "LayoutView",
            "grid_template_rows": null,
            "right": null,
            "justify_content": null,
            "_view_module": "@jupyter-widgets/base",
            "overflow": null,
            "_model_module_version": "1.2.0",
            "_view_count": null,
            "flex_flow": null,
            "width": null,
            "min_width": null,
            "border": null,
            "align_items": null,
            "bottom": null,
            "_model_module": "@jupyter-widgets/base",
            "top": null,
            "grid_column": null,
            "overflow_y": null,
            "overflow_x": null,
            "grid_auto_flow": null,
            "grid_area": null,
            "grid_template_columns": null,
            "flex": null,
            "_model_name": "LayoutModel",
            "justify_items": null,
            "grid_row": null,
            "max_height": null,
            "align_content": null,
            "visibility": null,
            "align_self": null,
            "height": null,
            "min_height": null,
            "padding": null,
            "grid_auto_rows": null,
            "grid_gap": null,
            "max_width": null,
            "order": null,
            "_view_module_version": "1.2.0",
            "grid_template_areas": null,
            "object_position": null,
            "object_fit": null,
            "grid_auto_columns": null,
            "margin": null,
            "display": null,
            "left": null
          }
        },
        "bad361d83853441b86a620594791de42": {
          "model_module": "@jupyter-widgets/controls",
          "model_name": "HTMLModel",
          "model_module_version": "1.5.0",
          "state": {
            "_view_name": "HTMLView",
            "style": "IPY_MODEL_31039414d97d47eeb9231a3f959eb994",
            "_dom_classes": [],
            "description": "",
            "_model_name": "HTMLModel",
            "placeholder": "​",
            "_view_module": "@jupyter-widgets/controls",
            "_model_module_version": "1.5.0",
            "value": "",
            "_view_count": null,
            "_view_module_version": "1.5.0",
            "description_tooltip": null,
            "_model_module": "@jupyter-widgets/controls",
            "layout": "IPY_MODEL_da8ab9e9e49245ad994adfc16e13dc4f"
          }
        },
        "7419f869846d4fd89ada8b7dcb49d4c4": {
          "model_module": "@jupyter-widgets/controls",
          "model_name": "FloatProgressModel",
          "model_module_version": "1.5.0",
          "state": {
            "_view_name": "ProgressView",
            "style": "IPY_MODEL_8f7ef0c26e0648eebf165eb4435aee02",
            "_dom_classes": [],
            "description": "",
            "_model_name": "FloatProgressModel",
            "bar_style": "success",
            "max": 1648877,
            "_view_module": "@jupyter-widgets/controls",
            "_model_module_version": "1.5.0",
            "value": 1648877,
            "_view_count": null,
            "_view_module_version": "1.5.0",
            "orientation": "horizontal",
            "min": 0,
            "description_tooltip": null,
            "_model_module": "@jupyter-widgets/controls",
            "layout": "IPY_MODEL_3bcccb61701247c28233bd4c0a791f05"
          }
        },
        "c5e5eb50538547319e6149759195a016": {
          "model_module": "@jupyter-widgets/controls",
          "model_name": "HTMLModel",
          "model_module_version": "1.5.0",
          "state": {
            "_view_name": "HTMLView",
            "style": "IPY_MODEL_9b8028df43be498ea7d4747e3f106853",
            "_dom_classes": [],
            "description": "",
            "_model_name": "HTMLModel",
            "placeholder": "​",
            "_view_module": "@jupyter-widgets/controls",
            "_model_module_version": "1.5.0",
            "value": " 1649664/? [00:00&lt;00:00, 4463482.11it/s]",
            "_view_count": null,
            "_view_module_version": "1.5.0",
            "description_tooltip": null,
            "_model_module": "@jupyter-widgets/controls",
            "layout": "IPY_MODEL_ed39f5f600ca4c549e6e7e6411b84a0c"
          }
        },
        "31039414d97d47eeb9231a3f959eb994": {
          "model_module": "@jupyter-widgets/controls",
          "model_name": "DescriptionStyleModel",
          "model_module_version": "1.5.0",
          "state": {
            "_view_name": "StyleView",
            "_model_name": "DescriptionStyleModel",
            "description_width": "",
            "_view_module": "@jupyter-widgets/base",
            "_model_module_version": "1.5.0",
            "_view_count": null,
            "_view_module_version": "1.2.0",
            "_model_module": "@jupyter-widgets/controls"
          }
        },
        "da8ab9e9e49245ad994adfc16e13dc4f": {
          "model_module": "@jupyter-widgets/base",
          "model_name": "LayoutModel",
          "model_module_version": "1.2.0",
          "state": {
            "_view_name": "LayoutView",
            "grid_template_rows": null,
            "right": null,
            "justify_content": null,
            "_view_module": "@jupyter-widgets/base",
            "overflow": null,
            "_model_module_version": "1.2.0",
            "_view_count": null,
            "flex_flow": null,
            "width": null,
            "min_width": null,
            "border": null,
            "align_items": null,
            "bottom": null,
            "_model_module": "@jupyter-widgets/base",
            "top": null,
            "grid_column": null,
            "overflow_y": null,
            "overflow_x": null,
            "grid_auto_flow": null,
            "grid_area": null,
            "grid_template_columns": null,
            "flex": null,
            "_model_name": "LayoutModel",
            "justify_items": null,
            "grid_row": null,
            "max_height": null,
            "align_content": null,
            "visibility": null,
            "align_self": null,
            "height": null,
            "min_height": null,
            "padding": null,
            "grid_auto_rows": null,
            "grid_gap": null,
            "max_width": null,
            "order": null,
            "_view_module_version": "1.2.0",
            "grid_template_areas": null,
            "object_position": null,
            "object_fit": null,
            "grid_auto_columns": null,
            "margin": null,
            "display": null,
            "left": null
          }
        },
        "8f7ef0c26e0648eebf165eb4435aee02": {
          "model_module": "@jupyter-widgets/controls",
          "model_name": "ProgressStyleModel",
          "model_module_version": "1.5.0",
          "state": {
            "_view_name": "StyleView",
            "_model_name": "ProgressStyleModel",
            "description_width": "",
            "_view_module": "@jupyter-widgets/base",
            "_model_module_version": "1.5.0",
            "_view_count": null,
            "_view_module_version": "1.2.0",
            "bar_color": null,
            "_model_module": "@jupyter-widgets/controls"
          }
        },
        "3bcccb61701247c28233bd4c0a791f05": {
          "model_module": "@jupyter-widgets/base",
          "model_name": "LayoutModel",
          "model_module_version": "1.2.0",
          "state": {
            "_view_name": "LayoutView",
            "grid_template_rows": null,
            "right": null,
            "justify_content": null,
            "_view_module": "@jupyter-widgets/base",
            "overflow": null,
            "_model_module_version": "1.2.0",
            "_view_count": null,
            "flex_flow": null,
            "width": null,
            "min_width": null,
            "border": null,
            "align_items": null,
            "bottom": null,
            "_model_module": "@jupyter-widgets/base",
            "top": null,
            "grid_column": null,
            "overflow_y": null,
            "overflow_x": null,
            "grid_auto_flow": null,
            "grid_area": null,
            "grid_template_columns": null,
            "flex": null,
            "_model_name": "LayoutModel",
            "justify_items": null,
            "grid_row": null,
            "max_height": null,
            "align_content": null,
            "visibility": null,
            "align_self": null,
            "height": null,
            "min_height": null,
            "padding": null,
            "grid_auto_rows": null,
            "grid_gap": null,
            "max_width": null,
            "order": null,
            "_view_module_version": "1.2.0",
            "grid_template_areas": null,
            "object_position": null,
            "object_fit": null,
            "grid_auto_columns": null,
            "margin": null,
            "display": null,
            "left": null
          }
        },
        "9b8028df43be498ea7d4747e3f106853": {
          "model_module": "@jupyter-widgets/controls",
          "model_name": "DescriptionStyleModel",
          "model_module_version": "1.5.0",
          "state": {
            "_view_name": "StyleView",
            "_model_name": "DescriptionStyleModel",
            "description_width": "",
            "_view_module": "@jupyter-widgets/base",
            "_model_module_version": "1.5.0",
            "_view_count": null,
            "_view_module_version": "1.2.0",
            "_model_module": "@jupyter-widgets/controls"
          }
        },
        "ed39f5f600ca4c549e6e7e6411b84a0c": {
          "model_module": "@jupyter-widgets/base",
          "model_name": "LayoutModel",
          "model_module_version": "1.2.0",
          "state": {
            "_view_name": "LayoutView",
            "grid_template_rows": null,
            "right": null,
            "justify_content": null,
            "_view_module": "@jupyter-widgets/base",
            "overflow": null,
            "_model_module_version": "1.2.0",
            "_view_count": null,
            "flex_flow": null,
            "width": null,
            "min_width": null,
            "border": null,
            "align_items": null,
            "bottom": null,
            "_model_module": "@jupyter-widgets/base",
            "top": null,
            "grid_column": null,
            "overflow_y": null,
            "overflow_x": null,
            "grid_auto_flow": null,
            "grid_area": null,
            "grid_template_columns": null,
            "flex": null,
            "_model_name": "LayoutModel",
            "justify_items": null,
            "grid_row": null,
            "max_height": null,
            "align_content": null,
            "visibility": null,
            "align_self": null,
            "height": null,
            "min_height": null,
            "padding": null,
            "grid_auto_rows": null,
            "grid_gap": null,
            "max_width": null,
            "order": null,
            "_view_module_version": "1.2.0",
            "grid_template_areas": null,
            "object_position": null,
            "object_fit": null,
            "grid_auto_columns": null,
            "margin": null,
            "display": null,
            "left": null
          }
        },
        "dfd3ed3caf594f33924c0ee691806cf5": {
          "model_module": "@jupyter-widgets/controls",
          "model_name": "HBoxModel",
          "model_module_version": "1.5.0",
          "state": {
            "_view_name": "HBoxView",
            "_dom_classes": [],
            "_model_name": "HBoxModel",
            "_view_module": "@jupyter-widgets/controls",
            "_model_module_version": "1.5.0",
            "_view_count": null,
            "_view_module_version": "1.5.0",
            "box_style": "",
            "layout": "IPY_MODEL_b9144d11324941a4bb82940ba3befc64",
            "_model_module": "@jupyter-widgets/controls",
            "children": [
              "IPY_MODEL_020baafd175a406e890f1eeafc0f8b46",
              "IPY_MODEL_b3c8ee4cd1fd4d8398a791e1f4954e85",
              "IPY_MODEL_f02ec8cd22064e949bb337b2789e295b"
            ]
          }
        },
        "b9144d11324941a4bb82940ba3befc64": {
          "model_module": "@jupyter-widgets/base",
          "model_name": "LayoutModel",
          "model_module_version": "1.2.0",
          "state": {
            "_view_name": "LayoutView",
            "grid_template_rows": null,
            "right": null,
            "justify_content": null,
            "_view_module": "@jupyter-widgets/base",
            "overflow": null,
            "_model_module_version": "1.2.0",
            "_view_count": null,
            "flex_flow": null,
            "width": null,
            "min_width": null,
            "border": null,
            "align_items": null,
            "bottom": null,
            "_model_module": "@jupyter-widgets/base",
            "top": null,
            "grid_column": null,
            "overflow_y": null,
            "overflow_x": null,
            "grid_auto_flow": null,
            "grid_area": null,
            "grid_template_columns": null,
            "flex": null,
            "_model_name": "LayoutModel",
            "justify_items": null,
            "grid_row": null,
            "max_height": null,
            "align_content": null,
            "visibility": null,
            "align_self": null,
            "height": null,
            "min_height": null,
            "padding": null,
            "grid_auto_rows": null,
            "grid_gap": null,
            "max_width": null,
            "order": null,
            "_view_module_version": "1.2.0",
            "grid_template_areas": null,
            "object_position": null,
            "object_fit": null,
            "grid_auto_columns": null,
            "margin": null,
            "display": null,
            "left": null
          }
        },
        "020baafd175a406e890f1eeafc0f8b46": {
          "model_module": "@jupyter-widgets/controls",
          "model_name": "HTMLModel",
          "model_module_version": "1.5.0",
          "state": {
            "_view_name": "HTMLView",
            "style": "IPY_MODEL_dcbffc385881491b9670c1f8be86e7ad",
            "_dom_classes": [],
            "description": "",
            "_model_name": "HTMLModel",
            "placeholder": "​",
            "_view_module": "@jupyter-widgets/controls",
            "_model_module_version": "1.5.0",
            "value": "",
            "_view_count": null,
            "_view_module_version": "1.5.0",
            "description_tooltip": null,
            "_model_module": "@jupyter-widgets/controls",
            "layout": "IPY_MODEL_164161d4499044de9c38f729def307c4"
          }
        },
        "b3c8ee4cd1fd4d8398a791e1f4954e85": {
          "model_module": "@jupyter-widgets/controls",
          "model_name": "FloatProgressModel",
          "model_module_version": "1.5.0",
          "state": {
            "_view_name": "ProgressView",
            "style": "IPY_MODEL_49e539f4a75f48a09cee3f0776da8a3e",
            "_dom_classes": [],
            "description": "",
            "_model_name": "FloatProgressModel",
            "bar_style": "success",
            "max": 4542,
            "_view_module": "@jupyter-widgets/controls",
            "_model_module_version": "1.5.0",
            "value": 4542,
            "_view_count": null,
            "_view_module_version": "1.5.0",
            "orientation": "horizontal",
            "min": 0,
            "description_tooltip": null,
            "_model_module": "@jupyter-widgets/controls",
            "layout": "IPY_MODEL_974729f836af4738a0240531ff3f20da"
          }
        },
        "f02ec8cd22064e949bb337b2789e295b": {
          "model_module": "@jupyter-widgets/controls",
          "model_name": "HTMLModel",
          "model_module_version": "1.5.0",
          "state": {
            "_view_name": "HTMLView",
            "style": "IPY_MODEL_9ecc314fbb0d4fc4bc3ac6decff85ccd",
            "_dom_classes": [],
            "description": "",
            "_model_name": "HTMLModel",
            "placeholder": "​",
            "_view_module": "@jupyter-widgets/controls",
            "_model_module_version": "1.5.0",
            "value": " 5120/? [00:00&lt;00:00, 125782.44it/s]",
            "_view_count": null,
            "_view_module_version": "1.5.0",
            "description_tooltip": null,
            "_model_module": "@jupyter-widgets/controls",
            "layout": "IPY_MODEL_288c399e969149cba85ac9715b324227"
          }
        },
        "dcbffc385881491b9670c1f8be86e7ad": {
          "model_module": "@jupyter-widgets/controls",
          "model_name": "DescriptionStyleModel",
          "model_module_version": "1.5.0",
          "state": {
            "_view_name": "StyleView",
            "_model_name": "DescriptionStyleModel",
            "description_width": "",
            "_view_module": "@jupyter-widgets/base",
            "_model_module_version": "1.5.0",
            "_view_count": null,
            "_view_module_version": "1.2.0",
            "_model_module": "@jupyter-widgets/controls"
          }
        },
        "164161d4499044de9c38f729def307c4": {
          "model_module": "@jupyter-widgets/base",
          "model_name": "LayoutModel",
          "model_module_version": "1.2.0",
          "state": {
            "_view_name": "LayoutView",
            "grid_template_rows": null,
            "right": null,
            "justify_content": null,
            "_view_module": "@jupyter-widgets/base",
            "overflow": null,
            "_model_module_version": "1.2.0",
            "_view_count": null,
            "flex_flow": null,
            "width": null,
            "min_width": null,
            "border": null,
            "align_items": null,
            "bottom": null,
            "_model_module": "@jupyter-widgets/base",
            "top": null,
            "grid_column": null,
            "overflow_y": null,
            "overflow_x": null,
            "grid_auto_flow": null,
            "grid_area": null,
            "grid_template_columns": null,
            "flex": null,
            "_model_name": "LayoutModel",
            "justify_items": null,
            "grid_row": null,
            "max_height": null,
            "align_content": null,
            "visibility": null,
            "align_self": null,
            "height": null,
            "min_height": null,
            "padding": null,
            "grid_auto_rows": null,
            "grid_gap": null,
            "max_width": null,
            "order": null,
            "_view_module_version": "1.2.0",
            "grid_template_areas": null,
            "object_position": null,
            "object_fit": null,
            "grid_auto_columns": null,
            "margin": null,
            "display": null,
            "left": null
          }
        },
        "49e539f4a75f48a09cee3f0776da8a3e": {
          "model_module": "@jupyter-widgets/controls",
          "model_name": "ProgressStyleModel",
          "model_module_version": "1.5.0",
          "state": {
            "_view_name": "StyleView",
            "_model_name": "ProgressStyleModel",
            "description_width": "",
            "_view_module": "@jupyter-widgets/base",
            "_model_module_version": "1.5.0",
            "_view_count": null,
            "_view_module_version": "1.2.0",
            "bar_color": null,
            "_model_module": "@jupyter-widgets/controls"
          }
        },
        "974729f836af4738a0240531ff3f20da": {
          "model_module": "@jupyter-widgets/base",
          "model_name": "LayoutModel",
          "model_module_version": "1.2.0",
          "state": {
            "_view_name": "LayoutView",
            "grid_template_rows": null,
            "right": null,
            "justify_content": null,
            "_view_module": "@jupyter-widgets/base",
            "overflow": null,
            "_model_module_version": "1.2.0",
            "_view_count": null,
            "flex_flow": null,
            "width": null,
            "min_width": null,
            "border": null,
            "align_items": null,
            "bottom": null,
            "_model_module": "@jupyter-widgets/base",
            "top": null,
            "grid_column": null,
            "overflow_y": null,
            "overflow_x": null,
            "grid_auto_flow": null,
            "grid_area": null,
            "grid_template_columns": null,
            "flex": null,
            "_model_name": "LayoutModel",
            "justify_items": null,
            "grid_row": null,
            "max_height": null,
            "align_content": null,
            "visibility": null,
            "align_self": null,
            "height": null,
            "min_height": null,
            "padding": null,
            "grid_auto_rows": null,
            "grid_gap": null,
            "max_width": null,
            "order": null,
            "_view_module_version": "1.2.0",
            "grid_template_areas": null,
            "object_position": null,
            "object_fit": null,
            "grid_auto_columns": null,
            "margin": null,
            "display": null,
            "left": null
          }
        },
        "9ecc314fbb0d4fc4bc3ac6decff85ccd": {
          "model_module": "@jupyter-widgets/controls",
          "model_name": "DescriptionStyleModel",
          "model_module_version": "1.5.0",
          "state": {
            "_view_name": "StyleView",
            "_model_name": "DescriptionStyleModel",
            "description_width": "",
            "_view_module": "@jupyter-widgets/base",
            "_model_module_version": "1.5.0",
            "_view_count": null,
            "_view_module_version": "1.2.0",
            "_model_module": "@jupyter-widgets/controls"
          }
        },
        "288c399e969149cba85ac9715b324227": {
          "model_module": "@jupyter-widgets/base",
          "model_name": "LayoutModel",
          "model_module_version": "1.2.0",
          "state": {
            "_view_name": "LayoutView",
            "grid_template_rows": null,
            "right": null,
            "justify_content": null,
            "_view_module": "@jupyter-widgets/base",
            "overflow": null,
            "_model_module_version": "1.2.0",
            "_view_count": null,
            "flex_flow": null,
            "width": null,
            "min_width": null,
            "border": null,
            "align_items": null,
            "bottom": null,
            "_model_module": "@jupyter-widgets/base",
            "top": null,
            "grid_column": null,
            "overflow_y": null,
            "overflow_x": null,
            "grid_auto_flow": null,
            "grid_area": null,
            "grid_template_columns": null,
            "flex": null,
            "_model_name": "LayoutModel",
            "justify_items": null,
            "grid_row": null,
            "max_height": null,
            "align_content": null,
            "visibility": null,
            "align_self": null,
            "height": null,
            "min_height": null,
            "padding": null,
            "grid_auto_rows": null,
            "grid_gap": null,
            "max_width": null,
            "order": null,
            "_view_module_version": "1.2.0",
            "grid_template_areas": null,
            "object_position": null,
            "object_fit": null,
            "grid_auto_columns": null,
            "margin": null,
            "display": null,
            "left": null
          }
        }
      }
    }
  },
  "nbformat": 4,
  "nbformat_minor": 5
}